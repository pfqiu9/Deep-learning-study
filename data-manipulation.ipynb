{
 "cells": [
  {
   "cell_type": "markdown",
   "id": "90f45fdc",
   "metadata": {
    "papermill": {
     "duration": 0.006964,
     "end_time": "2022-07-09T14:56:07.928637",
     "exception": false,
     "start_time": "2022-07-09T14:56:07.921673",
     "status": "completed"
    },
    "tags": []
   },
   "source": [
    "# Data manipulation\n",
    "Acquires data and reads it into the computer for processing"
   ]
  },
  {
   "cell_type": "markdown",
   "id": "912c3a4f",
   "metadata": {
    "papermill": {
     "duration": 0.005304,
     "end_time": "2022-07-09T14:56:07.939731",
     "exception": false,
     "start_time": "2022-07-09T14:56:07.934427",
     "status": "completed"
    },
    "tags": []
   },
   "source": [
    "## First\n",
    "tensor"
   ]
  },
  {
   "cell_type": "code",
   "execution_count": 1,
   "id": "43ea3534",
   "metadata": {
    "execution": {
     "iopub.execute_input": "2022-07-09T14:56:07.955091Z",
     "iopub.status.busy": "2022-07-09T14:56:07.953623Z",
     "iopub.status.idle": "2022-07-09T14:56:10.023989Z",
     "shell.execute_reply": "2022-07-09T14:56:10.022400Z"
    },
    "papermill": {
     "duration": 2.081988,
     "end_time": "2022-07-09T14:56:10.027745",
     "exception": false,
     "start_time": "2022-07-09T14:56:07.945757",
     "status": "completed"
    },
    "tags": []
   },
   "outputs": [
    {
     "data": {
      "text/plain": [
       "tensor([ 0,  1,  2,  3,  4,  5,  6,  7,  8,  9, 10, 11])"
      ]
     },
     "execution_count": 1,
     "metadata": {},
     "output_type": "execute_result"
    }
   ],
   "source": [
    "import torch\n",
    "x=torch.arange(12)\n",
    "x"
   ]
  },
  {
   "cell_type": "code",
   "execution_count": 2,
   "id": "79e4f4be",
   "metadata": {
    "_cell_guid": "b1076dfc-b9ad-4769-8c92-a6c4dae69d19",
    "_uuid": "8f2839f25d086af736a60e9eeb907d3b93b6e0e5",
    "execution": {
     "iopub.execute_input": "2022-07-09T14:56:10.042620Z",
     "iopub.status.busy": "2022-07-09T14:56:10.040968Z",
     "iopub.status.idle": "2022-07-09T14:56:10.052435Z",
     "shell.execute_reply": "2022-07-09T14:56:10.050628Z"
    },
    "papermill": {
     "duration": 0.02191,
     "end_time": "2022-07-09T14:56:10.055485",
     "exception": false,
     "start_time": "2022-07-09T14:56:10.033575",
     "status": "completed"
    },
    "tags": []
   },
   "outputs": [
    {
     "data": {
      "text/plain": [
       "torch.Size([12])"
      ]
     },
     "execution_count": 2,
     "metadata": {},
     "output_type": "execute_result"
    }
   ],
   "source": [
    "x.shape"
   ]
  },
  {
   "cell_type": "code",
   "execution_count": 3,
   "id": "04a8d559",
   "metadata": {
    "execution": {
     "iopub.execute_input": "2022-07-09T14:56:10.070578Z",
     "iopub.status.busy": "2022-07-09T14:56:10.069408Z",
     "iopub.status.idle": "2022-07-09T14:56:10.078732Z",
     "shell.execute_reply": "2022-07-09T14:56:10.077418Z"
    },
    "papermill": {
     "duration": 0.019539,
     "end_time": "2022-07-09T14:56:10.081463",
     "exception": false,
     "start_time": "2022-07-09T14:56:10.061924",
     "status": "completed"
    },
    "tags": []
   },
   "outputs": [
    {
     "data": {
      "text/plain": [
       "12"
      ]
     },
     "execution_count": 3,
     "metadata": {},
     "output_type": "execute_result"
    }
   ],
   "source": [
    "x.numel()"
   ]
  },
  {
   "cell_type": "code",
   "execution_count": 4,
   "id": "cc6c9866",
   "metadata": {
    "execution": {
     "iopub.execute_input": "2022-07-09T14:56:10.095138Z",
     "iopub.status.busy": "2022-07-09T14:56:10.094529Z",
     "iopub.status.idle": "2022-07-09T14:56:10.102768Z",
     "shell.execute_reply": "2022-07-09T14:56:10.101144Z"
    },
    "papermill": {
     "duration": 0.018001,
     "end_time": "2022-07-09T14:56:10.105528",
     "exception": false,
     "start_time": "2022-07-09T14:56:10.087527",
     "status": "completed"
    },
    "tags": []
   },
   "outputs": [
    {
     "data": {
      "text/plain": [
       "tensor([[ 0,  1,  2,  3],\n",
       "        [ 4,  5,  6,  7],\n",
       "        [ 8,  9, 10, 11]])"
      ]
     },
     "execution_count": 4,
     "metadata": {},
     "output_type": "execute_result"
    }
   ],
   "source": [
    "X=x.reshape(3,4)\n",
    "X"
   ]
  },
  {
   "cell_type": "code",
   "execution_count": 5,
   "id": "ecbb937b",
   "metadata": {
    "execution": {
     "iopub.execute_input": "2022-07-09T14:56:10.120127Z",
     "iopub.status.busy": "2022-07-09T14:56:10.118737Z",
     "iopub.status.idle": "2022-07-09T14:56:10.129754Z",
     "shell.execute_reply": "2022-07-09T14:56:10.128227Z"
    },
    "papermill": {
     "duration": 0.021387,
     "end_time": "2022-07-09T14:56:10.132628",
     "exception": false,
     "start_time": "2022-07-09T14:56:10.111241",
     "status": "completed"
    },
    "tags": []
   },
   "outputs": [
    {
     "data": {
      "text/plain": [
       "tensor([[[0., 0., 0., 0.],\n",
       "         [0., 0., 0., 0.],\n",
       "         [0., 0., 0., 0.]],\n",
       "\n",
       "        [[0., 0., 0., 0.],\n",
       "         [0., 0., 0., 0.],\n",
       "         [0., 0., 0., 0.]]])"
      ]
     },
     "execution_count": 5,
     "metadata": {},
     "output_type": "execute_result"
    }
   ],
   "source": [
    "torch.zeros(2,3,4)"
   ]
  },
  {
   "cell_type": "code",
   "execution_count": 6,
   "id": "9be1b0a4",
   "metadata": {
    "execution": {
     "iopub.execute_input": "2022-07-09T14:56:10.147462Z",
     "iopub.status.busy": "2022-07-09T14:56:10.147022Z",
     "iopub.status.idle": "2022-07-09T14:56:10.156901Z",
     "shell.execute_reply": "2022-07-09T14:56:10.155827Z"
    },
    "papermill": {
     "duration": 0.019973,
     "end_time": "2022-07-09T14:56:10.159080",
     "exception": false,
     "start_time": "2022-07-09T14:56:10.139107",
     "status": "completed"
    },
    "tags": []
   },
   "outputs": [
    {
     "data": {
      "text/plain": [
       "tensor([[[1., 1., 1., 1.],\n",
       "         [1., 1., 1., 1.],\n",
       "         [1., 1., 1., 1.]],\n",
       "\n",
       "        [[1., 1., 1., 1.],\n",
       "         [1., 1., 1., 1.],\n",
       "         [1., 1., 1., 1.]]])"
      ]
     },
     "execution_count": 6,
     "metadata": {},
     "output_type": "execute_result"
    }
   ],
   "source": [
    "torch.ones(2,3,4)"
   ]
  },
  {
   "cell_type": "code",
   "execution_count": 7,
   "id": "bc730c03",
   "metadata": {
    "execution": {
     "iopub.execute_input": "2022-07-09T14:56:10.174774Z",
     "iopub.status.busy": "2022-07-09T14:56:10.173485Z",
     "iopub.status.idle": "2022-07-09T14:56:10.188569Z",
     "shell.execute_reply": "2022-07-09T14:56:10.186667Z"
    },
    "papermill": {
     "duration": 0.025559,
     "end_time": "2022-07-09T14:56:10.191205",
     "exception": false,
     "start_time": "2022-07-09T14:56:10.165646",
     "status": "completed"
    },
    "tags": []
   },
   "outputs": [
    {
     "data": {
      "text/plain": [
       "tensor([[-0.4196,  0.6014, -0.4505,  2.0108],\n",
       "        [ 1.1862, -0.7113, -0.4538,  0.0430],\n",
       "        [ 1.4146, -0.0728, -1.8363,  0.0365]])"
      ]
     },
     "execution_count": 7,
     "metadata": {},
     "output_type": "execute_result"
    }
   ],
   "source": [
    "torch.randn(3,4)  #Random sampling in a standard Gassian distribution"
   ]
  },
  {
   "cell_type": "code",
   "execution_count": 8,
   "id": "dd7c1da2",
   "metadata": {
    "execution": {
     "iopub.execute_input": "2022-07-09T14:56:10.207250Z",
     "iopub.status.busy": "2022-07-09T14:56:10.206452Z",
     "iopub.status.idle": "2022-07-09T14:56:10.215279Z",
     "shell.execute_reply": "2022-07-09T14:56:10.213705Z"
    },
    "papermill": {
     "duration": 0.019902,
     "end_time": "2022-07-09T14:56:10.217992",
     "exception": false,
     "start_time": "2022-07-09T14:56:10.198090",
     "status": "completed"
    },
    "tags": []
   },
   "outputs": [
    {
     "data": {
      "text/plain": [
       "tensor([[1, 2, 3, 4],\n",
       "        [1, 3, 4, 5],\n",
       "        [2, 3, 1, 4]])"
      ]
     },
     "execution_count": 8,
     "metadata": {},
     "output_type": "execute_result"
    }
   ],
   "source": [
    "torch.tensor([[1,2,3,4],[1,3,4,5],[2,3,1,4]])"
   ]
  },
  {
   "cell_type": "code",
   "execution_count": 9,
   "id": "688498dd",
   "metadata": {
    "execution": {
     "iopub.execute_input": "2022-07-09T14:56:10.233865Z",
     "iopub.status.busy": "2022-07-09T14:56:10.233476Z",
     "iopub.status.idle": "2022-07-09T14:56:10.246392Z",
     "shell.execute_reply": "2022-07-09T14:56:10.245226Z"
    },
    "papermill": {
     "duration": 0.024118,
     "end_time": "2022-07-09T14:56:10.249126",
     "exception": false,
     "start_time": "2022-07-09T14:56:10.225008",
     "status": "completed"
    },
    "tags": []
   },
   "outputs": [
    {
     "data": {
      "text/plain": [
       "(tensor([4, 2, 4, 6, 5]),\n",
       " tensor([-4,  0,  0,  0,  3]),\n",
       " tensor([0, 1, 4, 9, 4]),\n",
       " tensor([0., 1., 1., 1., 4.]),\n",
       " tensor([ 0,  1,  4, 27,  4]))"
      ]
     },
     "execution_count": 9,
     "metadata": {},
     "output_type": "execute_result"
    }
   ],
   "source": [
    "x=torch.arange(5)\n",
    "y=torch.tensor([4,1,2,3,1])\n",
    "x+y,x-y,x*y,x/y,x**y"
   ]
  },
  {
   "cell_type": "code",
   "execution_count": 10,
   "id": "f3e8c568",
   "metadata": {
    "execution": {
     "iopub.execute_input": "2022-07-09T14:56:10.265361Z",
     "iopub.status.busy": "2022-07-09T14:56:10.263959Z",
     "iopub.status.idle": "2022-07-09T14:56:10.281510Z",
     "shell.execute_reply": "2022-07-09T14:56:10.279958Z"
    },
    "papermill": {
     "duration": 0.02832,
     "end_time": "2022-07-09T14:56:10.284137",
     "exception": false,
     "start_time": "2022-07-09T14:56:10.255817",
     "status": "completed"
    },
    "tags": []
   },
   "outputs": [
    {
     "data": {
      "text/plain": [
       "tensor([ 1.0000,  2.7183,  7.3891, 20.0855, 54.5981])"
      ]
     },
     "execution_count": 10,
     "metadata": {},
     "output_type": "execute_result"
    }
   ],
   "source": [
    "torch.exp(x) #find the power sign"
   ]
  },
  {
   "cell_type": "code",
   "execution_count": 11,
   "id": "8adb7240",
   "metadata": {
    "execution": {
     "iopub.execute_input": "2022-07-09T14:56:10.300101Z",
     "iopub.status.busy": "2022-07-09T14:56:10.298976Z",
     "iopub.status.idle": "2022-07-09T14:56:10.313043Z",
     "shell.execute_reply": "2022-07-09T14:56:10.311840Z"
    },
    "papermill": {
     "duration": 0.024288,
     "end_time": "2022-07-09T14:56:10.315288",
     "exception": false,
     "start_time": "2022-07-09T14:56:10.291000",
     "status": "completed"
    },
    "tags": []
   },
   "outputs": [
    {
     "data": {
      "text/plain": [
       "(tensor([[ 0.,  1.,  2.,  3.],\n",
       "         [ 4.,  5.,  6.,  7.],\n",
       "         [ 8.,  9., 10., 11.],\n",
       "         [ 1.,  3.,  5.,  2.],\n",
       "         [ 1.,  2.,  3.,  2.],\n",
       "         [ 1.,  5.,  3.,  9.]]),\n",
       " tensor([[ 0.,  1.,  2.,  3.,  1.,  3.,  5.,  2.],\n",
       "         [ 4.,  5.,  6.,  7.,  1.,  2.,  3.,  2.],\n",
       "         [ 8.,  9., 10., 11.,  1.,  5.,  3.,  9.]]))"
      ]
     },
     "execution_count": 11,
     "metadata": {},
     "output_type": "execute_result"
    }
   ],
   "source": [
    "X=torch.arange(12,dtype=torch.float32).reshape(3,4)\n",
    "Y=torch.tensor([[1,3,5,2],[1,2,3,2],[1,5,3,9]])\n",
    "torch.cat((X,Y),dim=0),torch.cat((X,Y),dim=1)"
   ]
  },
  {
   "cell_type": "code",
   "execution_count": 12,
   "id": "ba917a66",
   "metadata": {
    "execution": {
     "iopub.execute_input": "2022-07-09T14:56:10.331096Z",
     "iopub.status.busy": "2022-07-09T14:56:10.329992Z",
     "iopub.status.idle": "2022-07-09T14:56:10.340354Z",
     "shell.execute_reply": "2022-07-09T14:56:10.338980Z"
    },
    "papermill": {
     "duration": 0.021146,
     "end_time": "2022-07-09T14:56:10.342945",
     "exception": false,
     "start_time": "2022-07-09T14:56:10.321799",
     "status": "completed"
    },
    "tags": []
   },
   "outputs": [
    {
     "data": {
      "text/plain": [
       "tensor(66.)"
      ]
     },
     "execution_count": 12,
     "metadata": {},
     "output_type": "execute_result"
    }
   ],
   "source": [
    "X.sum()"
   ]
  },
  {
   "cell_type": "code",
   "execution_count": 13,
   "id": "2931d817",
   "metadata": {
    "execution": {
     "iopub.execute_input": "2022-07-09T14:56:10.362859Z",
     "iopub.status.busy": "2022-07-09T14:56:10.361941Z",
     "iopub.status.idle": "2022-07-09T14:56:10.373328Z",
     "shell.execute_reply": "2022-07-09T14:56:10.371846Z"
    },
    "papermill": {
     "duration": 0.022878,
     "end_time": "2022-07-09T14:56:10.375848",
     "exception": false,
     "start_time": "2022-07-09T14:56:10.352970",
     "status": "completed"
    },
    "tags": []
   },
   "outputs": [
    {
     "data": {
      "text/plain": [
       "(tensor([[0],\n",
       "         [1],\n",
       "         [2]]),\n",
       " tensor([[0, 1]]))"
      ]
     },
     "execution_count": 13,
     "metadata": {},
     "output_type": "execute_result"
    }
   ],
   "source": [
    "#Broadcast Mechanism\n",
    "a=torch.arange(3).reshape(3,1)\n",
    "b=torch.arange(2).reshape(1,2)\n",
    "a,b"
   ]
  },
  {
   "cell_type": "code",
   "execution_count": 14,
   "id": "2758b1d6",
   "metadata": {
    "execution": {
     "iopub.execute_input": "2022-07-09T14:56:10.392741Z",
     "iopub.status.busy": "2022-07-09T14:56:10.391938Z",
     "iopub.status.idle": "2022-07-09T14:56:10.401395Z",
     "shell.execute_reply": "2022-07-09T14:56:10.399940Z"
    },
    "papermill": {
     "duration": 0.020915,
     "end_time": "2022-07-09T14:56:10.404149",
     "exception": false,
     "start_time": "2022-07-09T14:56:10.383234",
     "status": "completed"
    },
    "tags": []
   },
   "outputs": [
    {
     "data": {
      "text/plain": [
       "tensor([[0, 1],\n",
       "        [1, 2],\n",
       "        [2, 3]])"
      ]
     },
     "execution_count": 14,
     "metadata": {},
     "output_type": "execute_result"
    }
   ],
   "source": [
    "a+b"
   ]
  },
  {
   "cell_type": "code",
   "execution_count": 15,
   "id": "b2a2791f",
   "metadata": {
    "execution": {
     "iopub.execute_input": "2022-07-09T14:56:10.421714Z",
     "iopub.status.busy": "2022-07-09T14:56:10.421213Z",
     "iopub.status.idle": "2022-07-09T14:56:10.430238Z",
     "shell.execute_reply": "2022-07-09T14:56:10.428702Z"
    },
    "papermill": {
     "duration": 0.020964,
     "end_time": "2022-07-09T14:56:10.432732",
     "exception": false,
     "start_time": "2022-07-09T14:56:10.411768",
     "status": "completed"
    },
    "tags": []
   },
   "outputs": [
    {
     "data": {
      "text/plain": [
       "(tensor([ 8.,  9., 10., 11.]),\n",
       " tensor([[ 4.,  5.,  6.,  7.],\n",
       "         [ 8.,  9., 10., 11.]]))"
      ]
     },
     "execution_count": 15,
     "metadata": {},
     "output_type": "execute_result"
    }
   ],
   "source": [
    "X[-1],X[1:3]"
   ]
  }
 ],
 "metadata": {
  "kernelspec": {
   "display_name": "Python 3",
   "language": "python",
   "name": "python3"
  },
  "language_info": {
   "codemirror_mode": {
    "name": "ipython",
    "version": 3
   },
   "file_extension": ".py",
   "mimetype": "text/x-python",
   "name": "python",
   "nbconvert_exporter": "python",
   "pygments_lexer": "ipython3",
   "version": "3.7.12"
  },
  "papermill": {
   "default_parameters": {},
   "duration": 14.170707,
   "end_time": "2022-07-09T14:56:11.464864",
   "environment_variables": {},
   "exception": null,
   "input_path": "__notebook__.ipynb",
   "output_path": "__notebook__.ipynb",
   "parameters": {},
   "start_time": "2022-07-09T14:55:57.294157",
   "version": "2.3.4"
  }
 },
 "nbformat": 4,
 "nbformat_minor": 5
}
