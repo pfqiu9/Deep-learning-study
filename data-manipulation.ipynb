{
 "cells": [
  {
   "cell_type": "markdown",
   "id": "6ef5006e",
   "metadata": {
    "papermill": {
     "duration": 0.013224,
     "end_time": "2022-07-10T05:00:16.516590",
     "exception": false,
     "start_time": "2022-07-10T05:00:16.503366",
     "status": "completed"
    },
    "tags": []
   },
   "source": [
    "# Data manipulation\n",
    "Acquires data and reads it into the computer for processing"
   ]
  },
  {
   "cell_type": "markdown",
   "id": "b68fd85a",
   "metadata": {
    "papermill": {
     "duration": 0.012296,
     "end_time": "2022-07-10T05:00:16.541465",
     "exception": false,
     "start_time": "2022-07-10T05:00:16.529169",
     "status": "completed"
    },
    "tags": []
   },
   "source": [
    "## First\n",
    "tensor"
   ]
  },
  {
   "cell_type": "code",
   "execution_count": 1,
   "id": "64451900",
   "metadata": {
    "execution": {
     "iopub.execute_input": "2022-07-10T05:00:16.569652Z",
     "iopub.status.busy": "2022-07-10T05:00:16.568688Z",
     "iopub.status.idle": "2022-07-10T05:00:18.472238Z",
     "shell.execute_reply": "2022-07-10T05:00:18.471082Z"
    },
    "papermill": {
     "duration": 1.922006,
     "end_time": "2022-07-10T05:00:18.475992",
     "exception": false,
     "start_time": "2022-07-10T05:00:16.553986",
     "status": "completed"
    },
    "tags": []
   },
   "outputs": [
    {
     "data": {
      "text/plain": [
       "tensor([ 0,  1,  2,  3,  4,  5,  6,  7,  8,  9, 10, 11])"
      ]
     },
     "execution_count": 1,
     "metadata": {},
     "output_type": "execute_result"
    }
   ],
   "source": [
    "import torch\n",
    "x=torch.arange(12)\n",
    "x"
   ]
  },
  {
   "cell_type": "code",
   "execution_count": 2,
   "id": "90a59c56",
   "metadata": {
    "_cell_guid": "b1076dfc-b9ad-4769-8c92-a6c4dae69d19",
    "_uuid": "8f2839f25d086af736a60e9eeb907d3b93b6e0e5",
    "execution": {
     "iopub.execute_input": "2022-07-10T05:00:18.504295Z",
     "iopub.status.busy": "2022-07-10T05:00:18.503295Z",
     "iopub.status.idle": "2022-07-10T05:00:18.509772Z",
     "shell.execute_reply": "2022-07-10T05:00:18.509020Z"
    },
    "papermill": {
     "duration": 0.022963,
     "end_time": "2022-07-10T05:00:18.512287",
     "exception": false,
     "start_time": "2022-07-10T05:00:18.489324",
     "status": "completed"
    },
    "tags": []
   },
   "outputs": [
    {
     "data": {
      "text/plain": [
       "torch.Size([12])"
      ]
     },
     "execution_count": 2,
     "metadata": {},
     "output_type": "execute_result"
    }
   ],
   "source": [
    "x.shape"
   ]
  },
  {
   "cell_type": "code",
   "execution_count": 3,
   "id": "09709b39",
   "metadata": {
    "execution": {
     "iopub.execute_input": "2022-07-10T05:00:18.539828Z",
     "iopub.status.busy": "2022-07-10T05:00:18.539124Z",
     "iopub.status.idle": "2022-07-10T05:00:18.544840Z",
     "shell.execute_reply": "2022-07-10T05:00:18.544128Z"
    },
    "papermill": {
     "duration": 0.022566,
     "end_time": "2022-07-10T05:00:18.547260",
     "exception": false,
     "start_time": "2022-07-10T05:00:18.524694",
     "status": "completed"
    },
    "tags": []
   },
   "outputs": [
    {
     "data": {
      "text/plain": [
       "12"
      ]
     },
     "execution_count": 3,
     "metadata": {},
     "output_type": "execute_result"
    }
   ],
   "source": [
    "x.numel()"
   ]
  },
  {
   "cell_type": "code",
   "execution_count": 4,
   "id": "04a4314d",
   "metadata": {
    "execution": {
     "iopub.execute_input": "2022-07-10T05:00:18.574082Z",
     "iopub.status.busy": "2022-07-10T05:00:18.573413Z",
     "iopub.status.idle": "2022-07-10T05:00:18.579372Z",
     "shell.execute_reply": "2022-07-10T05:00:18.578587Z"
    },
    "papermill": {
     "duration": 0.021641,
     "end_time": "2022-07-10T05:00:18.581383",
     "exception": false,
     "start_time": "2022-07-10T05:00:18.559742",
     "status": "completed"
    },
    "tags": []
   },
   "outputs": [
    {
     "data": {
      "text/plain": [
       "tensor([[ 0,  1,  2,  3],\n",
       "        [ 4,  5,  6,  7],\n",
       "        [ 8,  9, 10, 11]])"
      ]
     },
     "execution_count": 4,
     "metadata": {},
     "output_type": "execute_result"
    }
   ],
   "source": [
    "X=x.reshape(3,4)\n",
    "X"
   ]
  },
  {
   "cell_type": "code",
   "execution_count": 5,
   "id": "ee8fb560",
   "metadata": {
    "execution": {
     "iopub.execute_input": "2022-07-10T05:00:18.608702Z",
     "iopub.status.busy": "2022-07-10T05:00:18.608004Z",
     "iopub.status.idle": "2022-07-10T05:00:18.614769Z",
     "shell.execute_reply": "2022-07-10T05:00:18.613605Z"
    },
    "papermill": {
     "duration": 0.022965,
     "end_time": "2022-07-10T05:00:18.616885",
     "exception": false,
     "start_time": "2022-07-10T05:00:18.593920",
     "status": "completed"
    },
    "tags": []
   },
   "outputs": [
    {
     "data": {
      "text/plain": [
       "tensor([[[0., 0., 0., 0.],\n",
       "         [0., 0., 0., 0.],\n",
       "         [0., 0., 0., 0.]],\n",
       "\n",
       "        [[0., 0., 0., 0.],\n",
       "         [0., 0., 0., 0.],\n",
       "         [0., 0., 0., 0.]]])"
      ]
     },
     "execution_count": 5,
     "metadata": {},
     "output_type": "execute_result"
    }
   ],
   "source": [
    "torch.zeros(2,3,4)"
   ]
  },
  {
   "cell_type": "code",
   "execution_count": 6,
   "id": "bdd3cd01",
   "metadata": {
    "execution": {
     "iopub.execute_input": "2022-07-10T05:00:18.645222Z",
     "iopub.status.busy": "2022-07-10T05:00:18.644440Z",
     "iopub.status.idle": "2022-07-10T05:00:18.651438Z",
     "shell.execute_reply": "2022-07-10T05:00:18.650614Z"
    },
    "papermill": {
     "duration": 0.024059,
     "end_time": "2022-07-10T05:00:18.653613",
     "exception": false,
     "start_time": "2022-07-10T05:00:18.629554",
     "status": "completed"
    },
    "tags": []
   },
   "outputs": [
    {
     "data": {
      "text/plain": [
       "tensor([[[1., 1., 1., 1.],\n",
       "         [1., 1., 1., 1.],\n",
       "         [1., 1., 1., 1.]],\n",
       "\n",
       "        [[1., 1., 1., 1.],\n",
       "         [1., 1., 1., 1.],\n",
       "         [1., 1., 1., 1.]]])"
      ]
     },
     "execution_count": 6,
     "metadata": {},
     "output_type": "execute_result"
    }
   ],
   "source": [
    "torch.ones(2,3,4)"
   ]
  },
  {
   "cell_type": "code",
   "execution_count": 7,
   "id": "64d0a390",
   "metadata": {
    "execution": {
     "iopub.execute_input": "2022-07-10T05:00:18.681226Z",
     "iopub.status.busy": "2022-07-10T05:00:18.680510Z",
     "iopub.status.idle": "2022-07-10T05:00:18.691947Z",
     "shell.execute_reply": "2022-07-10T05:00:18.691146Z"
    },
    "papermill": {
     "duration": 0.027784,
     "end_time": "2022-07-10T05:00:18.694164",
     "exception": false,
     "start_time": "2022-07-10T05:00:18.666380",
     "status": "completed"
    },
    "tags": []
   },
   "outputs": [
    {
     "data": {
      "text/plain": [
       "tensor([[-0.2015,  1.2412, -0.6392, -1.4517],\n",
       "        [-1.1090, -0.3696,  0.5685,  1.2620],\n",
       "        [-1.5649, -1.3161, -1.4716,  0.4105]])"
      ]
     },
     "execution_count": 7,
     "metadata": {},
     "output_type": "execute_result"
    }
   ],
   "source": [
    "torch.randn(3,4)  #Random sampling in a standard Gassian distribution"
   ]
  },
  {
   "cell_type": "code",
   "execution_count": 8,
   "id": "98a6a1ff",
   "metadata": {
    "execution": {
     "iopub.execute_input": "2022-07-10T05:00:18.721817Z",
     "iopub.status.busy": "2022-07-10T05:00:18.721125Z",
     "iopub.status.idle": "2022-07-10T05:00:18.727920Z",
     "shell.execute_reply": "2022-07-10T05:00:18.727136Z"
    },
    "papermill": {
     "duration": 0.022987,
     "end_time": "2022-07-10T05:00:18.729969",
     "exception": false,
     "start_time": "2022-07-10T05:00:18.706982",
     "status": "completed"
    },
    "tags": []
   },
   "outputs": [
    {
     "data": {
      "text/plain": [
       "tensor([[1, 2, 3, 4],\n",
       "        [1, 3, 4, 5],\n",
       "        [2, 3, 1, 4]])"
      ]
     },
     "execution_count": 8,
     "metadata": {},
     "output_type": "execute_result"
    }
   ],
   "source": [
    "torch.tensor([[1,2,3,4],[1,3,4,5],[2,3,1,4]])"
   ]
  },
  {
   "cell_type": "code",
   "execution_count": 9,
   "id": "62c1d788",
   "metadata": {
    "execution": {
     "iopub.execute_input": "2022-07-10T05:00:18.757814Z",
     "iopub.status.busy": "2022-07-10T05:00:18.757119Z",
     "iopub.status.idle": "2022-07-10T05:00:18.768228Z",
     "shell.execute_reply": "2022-07-10T05:00:18.766984Z"
    },
    "papermill": {
     "duration": 0.027757,
     "end_time": "2022-07-10T05:00:18.770550",
     "exception": false,
     "start_time": "2022-07-10T05:00:18.742793",
     "status": "completed"
    },
    "tags": []
   },
   "outputs": [
    {
     "data": {
      "text/plain": [
       "(tensor([4, 2, 4, 6, 5]),\n",
       " tensor([-4,  0,  0,  0,  3]),\n",
       " tensor([0, 1, 4, 9, 4]),\n",
       " tensor([0., 1., 1., 1., 4.]),\n",
       " tensor([ 0,  1,  4, 27,  4]))"
      ]
     },
     "execution_count": 9,
     "metadata": {},
     "output_type": "execute_result"
    }
   ],
   "source": [
    "x=torch.arange(5)\n",
    "y=torch.tensor([4,1,2,3,1])\n",
    "x+y,x-y,x*y,x/y,x**y"
   ]
  },
  {
   "cell_type": "code",
   "execution_count": 10,
   "id": "a55dfee4",
   "metadata": {
    "execution": {
     "iopub.execute_input": "2022-07-10T05:00:18.799682Z",
     "iopub.status.busy": "2022-07-10T05:00:18.798982Z",
     "iopub.status.idle": "2022-07-10T05:00:18.815322Z",
     "shell.execute_reply": "2022-07-10T05:00:18.814112Z"
    },
    "papermill": {
     "duration": 0.033771,
     "end_time": "2022-07-10T05:00:18.818102",
     "exception": false,
     "start_time": "2022-07-10T05:00:18.784331",
     "status": "completed"
    },
    "tags": []
   },
   "outputs": [
    {
     "data": {
      "text/plain": [
       "tensor([ 1.0000,  2.7183,  7.3891, 20.0855, 54.5981])"
      ]
     },
     "execution_count": 10,
     "metadata": {},
     "output_type": "execute_result"
    }
   ],
   "source": [
    "torch.exp(x) #find the power sign"
   ]
  },
  {
   "cell_type": "code",
   "execution_count": 11,
   "id": "c0f7ea83",
   "metadata": {
    "execution": {
     "iopub.execute_input": "2022-07-10T05:00:18.847903Z",
     "iopub.status.busy": "2022-07-10T05:00:18.847548Z",
     "iopub.status.idle": "2022-07-10T05:00:18.858995Z",
     "shell.execute_reply": "2022-07-10T05:00:18.857890Z"
    },
    "papermill": {
     "duration": 0.028864,
     "end_time": "2022-07-10T05:00:18.861701",
     "exception": false,
     "start_time": "2022-07-10T05:00:18.832837",
     "status": "completed"
    },
    "tags": []
   },
   "outputs": [
    {
     "data": {
      "text/plain": [
       "(tensor([[ 0.,  1.,  2.,  3.],\n",
       "         [ 4.,  5.,  6.,  7.],\n",
       "         [ 8.,  9., 10., 11.],\n",
       "         [ 1.,  3.,  5.,  2.],\n",
       "         [ 1.,  2.,  3.,  2.],\n",
       "         [ 1.,  5.,  3.,  9.]]),\n",
       " tensor([[ 0.,  1.,  2.,  3.,  1.,  3.,  5.,  2.],\n",
       "         [ 4.,  5.,  6.,  7.,  1.,  2.,  3.,  2.],\n",
       "         [ 8.,  9., 10., 11.,  1.,  5.,  3.,  9.]]))"
      ]
     },
     "execution_count": 11,
     "metadata": {},
     "output_type": "execute_result"
    }
   ],
   "source": [
    "X=torch.arange(12,dtype=torch.float32).reshape(3,4)\n",
    "Y=torch.tensor([[1,3,5,2],[1,2,3,2],[1,5,3,9]])\n",
    "torch.cat((X,Y),dim=0),torch.cat((X,Y),dim=1)"
   ]
  },
  {
   "cell_type": "code",
   "execution_count": 12,
   "id": "ded9adb6",
   "metadata": {
    "execution": {
     "iopub.execute_input": "2022-07-10T05:00:18.889894Z",
     "iopub.status.busy": "2022-07-10T05:00:18.889531Z",
     "iopub.status.idle": "2022-07-10T05:00:18.896759Z",
     "shell.execute_reply": "2022-07-10T05:00:18.895956Z"
    },
    "papermill": {
     "duration": 0.023716,
     "end_time": "2022-07-10T05:00:18.898845",
     "exception": false,
     "start_time": "2022-07-10T05:00:18.875129",
     "status": "completed"
    },
    "tags": []
   },
   "outputs": [
    {
     "data": {
      "text/plain": [
       "tensor(66.)"
      ]
     },
     "execution_count": 12,
     "metadata": {},
     "output_type": "execute_result"
    }
   ],
   "source": [
    "X.sum()"
   ]
  },
  {
   "cell_type": "code",
   "execution_count": 13,
   "id": "cf276b1c",
   "metadata": {
    "execution": {
     "iopub.execute_input": "2022-07-10T05:00:18.927930Z",
     "iopub.status.busy": "2022-07-10T05:00:18.927265Z",
     "iopub.status.idle": "2022-07-10T05:00:18.934100Z",
     "shell.execute_reply": "2022-07-10T05:00:18.933260Z"
    },
    "papermill": {
     "duration": 0.023814,
     "end_time": "2022-07-10T05:00:18.936083",
     "exception": false,
     "start_time": "2022-07-10T05:00:18.912269",
     "status": "completed"
    },
    "tags": []
   },
   "outputs": [
    {
     "data": {
      "text/plain": [
       "(tensor([[0],\n",
       "         [1],\n",
       "         [2]]),\n",
       " tensor([[0, 1]]))"
      ]
     },
     "execution_count": 13,
     "metadata": {},
     "output_type": "execute_result"
    }
   ],
   "source": [
    "#Broadcast Mechanism\n",
    "a=torch.arange(3).reshape(3,1)\n",
    "b=torch.arange(2).reshape(1,2)\n",
    "a,b"
   ]
  },
  {
   "cell_type": "code",
   "execution_count": 14,
   "id": "08decb79",
   "metadata": {
    "execution": {
     "iopub.execute_input": "2022-07-10T05:00:18.965318Z",
     "iopub.status.busy": "2022-07-10T05:00:18.964648Z",
     "iopub.status.idle": "2022-07-10T05:00:18.970658Z",
     "shell.execute_reply": "2022-07-10T05:00:18.969572Z"
    },
    "papermill": {
     "duration": 0.02317,
     "end_time": "2022-07-10T05:00:18.972667",
     "exception": false,
     "start_time": "2022-07-10T05:00:18.949497",
     "status": "completed"
    },
    "tags": []
   },
   "outputs": [
    {
     "data": {
      "text/plain": [
       "tensor([[0, 1],\n",
       "        [1, 2],\n",
       "        [2, 3]])"
      ]
     },
     "execution_count": 14,
     "metadata": {},
     "output_type": "execute_result"
    }
   ],
   "source": [
    "a+b"
   ]
  },
  {
   "cell_type": "code",
   "execution_count": 15,
   "id": "0b46d376",
   "metadata": {
    "execution": {
     "iopub.execute_input": "2022-07-10T05:00:19.002708Z",
     "iopub.status.busy": "2022-07-10T05:00:19.002021Z",
     "iopub.status.idle": "2022-07-10T05:00:19.008741Z",
     "shell.execute_reply": "2022-07-10T05:00:19.007972Z"
    },
    "papermill": {
     "duration": 0.024348,
     "end_time": "2022-07-10T05:00:19.010874",
     "exception": false,
     "start_time": "2022-07-10T05:00:18.986526",
     "status": "completed"
    },
    "tags": []
   },
   "outputs": [
    {
     "data": {
      "text/plain": [
       "(tensor([ 8.,  9., 10., 11.]),\n",
       " tensor([[ 4.,  5.,  6.,  7.],\n",
       "         [ 8.,  9., 10., 11.]]))"
      ]
     },
     "execution_count": 15,
     "metadata": {},
     "output_type": "execute_result"
    }
   ],
   "source": [
    "X[-1],X[1:3]"
   ]
  },
  {
   "cell_type": "code",
   "execution_count": 16,
   "id": "502200db",
   "metadata": {
    "execution": {
     "iopub.execute_input": "2022-07-10T05:00:19.040587Z",
     "iopub.status.busy": "2022-07-10T05:00:19.040211Z",
     "iopub.status.idle": "2022-07-10T05:00:19.048782Z",
     "shell.execute_reply": "2022-07-10T05:00:19.047527Z"
    },
    "papermill": {
     "duration": 0.026416,
     "end_time": "2022-07-10T05:00:19.051437",
     "exception": false,
     "start_time": "2022-07-10T05:00:19.025021",
     "status": "completed"
    },
    "tags": []
   },
   "outputs": [
    {
     "data": {
      "text/plain": [
       "tensor([[ 0.,  1.,  2.,  3.],\n",
       "        [ 4.,  5.,  9.,  7.],\n",
       "        [ 8.,  9., 10., 11.]])"
      ]
     },
     "execution_count": 16,
     "metadata": {},
     "output_type": "execute_result"
    }
   ],
   "source": [
    "X[1,2]=9\n",
    "X"
   ]
  },
  {
   "cell_type": "code",
   "execution_count": 17,
   "id": "95936aa1",
   "metadata": {
    "execution": {
     "iopub.execute_input": "2022-07-10T05:00:19.081948Z",
     "iopub.status.busy": "2022-07-10T05:00:19.081587Z",
     "iopub.status.idle": "2022-07-10T05:00:19.089086Z",
     "shell.execute_reply": "2022-07-10T05:00:19.088132Z"
    },
    "papermill": {
     "duration": 0.025772,
     "end_time": "2022-07-10T05:00:19.091208",
     "exception": false,
     "start_time": "2022-07-10T05:00:19.065436",
     "status": "completed"
    },
    "tags": []
   },
   "outputs": [
    {
     "data": {
      "text/plain": [
       "tensor([[12., 12., 12., 12.],\n",
       "        [12., 12., 12., 12.],\n",
       "        [ 8.,  9., 10., 11.]])"
      ]
     },
     "execution_count": 17,
     "metadata": {},
     "output_type": "execute_result"
    }
   ],
   "source": [
    "X[0:2,:]=12\n",
    "X"
   ]
  },
  {
   "cell_type": "code",
   "execution_count": 18,
   "id": "ecb059ba",
   "metadata": {
    "execution": {
     "iopub.execute_input": "2022-07-10T05:00:19.121682Z",
     "iopub.status.busy": "2022-07-10T05:00:19.120648Z",
     "iopub.status.idle": "2022-07-10T05:00:19.127204Z",
     "shell.execute_reply": "2022-07-10T05:00:19.126366Z"
    },
    "papermill": {
     "duration": 0.023938,
     "end_time": "2022-07-10T05:00:19.129343",
     "exception": false,
     "start_time": "2022-07-10T05:00:19.105405",
     "status": "completed"
    },
    "tags": []
   },
   "outputs": [
    {
     "data": {
      "text/plain": [
       "False"
      ]
     },
     "execution_count": 18,
     "metadata": {},
     "output_type": "execute_result"
    }
   ],
   "source": [
    "before =id(Y)\n",
    "Y=Y+X\n",
    "id(Y)==before"
   ]
  },
  {
   "cell_type": "code",
   "execution_count": 19,
   "id": "030cb841",
   "metadata": {
    "execution": {
     "iopub.execute_input": "2022-07-10T05:00:19.159588Z",
     "iopub.status.busy": "2022-07-10T05:00:19.158733Z",
     "iopub.status.idle": "2022-07-10T05:00:19.166578Z",
     "shell.execute_reply": "2022-07-10T05:00:19.165454Z"
    },
    "papermill": {
     "duration": 0.02533,
     "end_time": "2022-07-10T05:00:19.168784",
     "exception": false,
     "start_time": "2022-07-10T05:00:19.143454",
     "status": "completed"
    },
    "tags": []
   },
   "outputs": [
    {
     "data": {
      "text/plain": [
       "True"
      ]
     },
     "execution_count": 19,
     "metadata": {},
     "output_type": "execute_result"
    }
   ],
   "source": [
    "before=id(X)\n",
    "X+=Y  #reduce memory overhead\n",
    "id(X)==before"
   ]
  },
  {
   "cell_type": "code",
   "execution_count": 20,
   "id": "7bc2353e",
   "metadata": {
    "execution": {
     "iopub.execute_input": "2022-07-10T05:00:19.199481Z",
     "iopub.status.busy": "2022-07-10T05:00:19.198824Z",
     "iopub.status.idle": "2022-07-10T05:00:19.206373Z",
     "shell.execute_reply": "2022-07-10T05:00:19.205154Z"
    },
    "papermill": {
     "duration": 0.025769,
     "end_time": "2022-07-10T05:00:19.208945",
     "exception": false,
     "start_time": "2022-07-10T05:00:19.183176",
     "status": "completed"
    },
    "tags": []
   },
   "outputs": [],
   "source": [
    "import os\n",
    "os.makedirs(os.path.join('kaggle','input','data'),exist_ok=True)\n",
    "data_files=os.path.join('kaggle','input','data','house_tiny.csv')\n",
    "with open(data_files,'w') as f:\n",
    "    f.write('NumRooms,Alley,Price\\n') #listings\n",
    "    f.write('NA,Pave,127500\\n')\n",
    "    f.write('2,NA,106000\\n')\n",
    "    f.write('4,NA,178100\\n')\n",
    "    f.write('NA,NA,140000\\n')\n"
   ]
  },
  {
   "cell_type": "code",
   "execution_count": 21,
   "id": "5bd5d4f1",
   "metadata": {
    "execution": {
     "iopub.execute_input": "2022-07-10T05:00:19.240023Z",
     "iopub.status.busy": "2022-07-10T05:00:19.239638Z",
     "iopub.status.idle": "2022-07-10T05:00:19.260149Z",
     "shell.execute_reply": "2022-07-10T05:00:19.259050Z"
    },
    "papermill": {
     "duration": 0.039192,
     "end_time": "2022-07-10T05:00:19.262988",
     "exception": false,
     "start_time": "2022-07-10T05:00:19.223796",
     "status": "completed"
    },
    "tags": []
   },
   "outputs": [
    {
     "name": "stdout",
     "output_type": "stream",
     "text": [
      "   NumRooms Alley   Price\n",
      "0       NaN  Pave  127500\n",
      "1       2.0   NaN  106000\n",
      "2       4.0   NaN  178100\n",
      "3       NaN   NaN  140000\n"
     ]
    }
   ],
   "source": [
    "import pandas as pd\n",
    "data=pd.read_csv(data_files)\n",
    "print(data)"
   ]
  },
  {
   "cell_type": "code",
   "execution_count": 22,
   "id": "d2f6636c",
   "metadata": {
    "execution": {
     "iopub.execute_input": "2022-07-10T05:00:19.293948Z",
     "iopub.status.busy": "2022-07-10T05:00:19.293538Z",
     "iopub.status.idle": "2022-07-10T05:00:19.308785Z",
     "shell.execute_reply": "2022-07-10T05:00:19.308021Z"
    },
    "papermill": {
     "duration": 0.035016,
     "end_time": "2022-07-10T05:00:19.312568",
     "exception": false,
     "start_time": "2022-07-10T05:00:19.277552",
     "status": "completed"
    },
    "tags": []
   },
   "outputs": [
    {
     "name": "stdout",
     "output_type": "stream",
     "text": [
      "   NumRooms Alley\n",
      "0       3.0  Pave\n",
      "1       2.0   NaN\n",
      "2       4.0   NaN\n",
      "3       3.0   NaN\n"
     ]
    },
    {
     "name": "stderr",
     "output_type": "stream",
     "text": [
      "/opt/conda/lib/python3.7/site-packages/ipykernel_launcher.py:2: FutureWarning: Dropping of nuisance columns in DataFrame reductions (with 'numeric_only=None') is deprecated; in a future version this will raise TypeError.  Select only valid columns before calling the reduction.\n",
      "  \n"
     ]
    }
   ],
   "source": [
    "inputs,outputs=data.iloc[:,0:2],data.iloc[:,2]\n",
    "inputs=inputs.fillna(inputs.mean())\n",
    "print(inputs)"
   ]
  },
  {
   "cell_type": "code",
   "execution_count": 23,
   "id": "1903765f",
   "metadata": {
    "execution": {
     "iopub.execute_input": "2022-07-10T05:00:19.343804Z",
     "iopub.status.busy": "2022-07-10T05:00:19.343396Z",
     "iopub.status.idle": "2022-07-10T05:00:19.360248Z",
     "shell.execute_reply": "2022-07-10T05:00:19.359422Z"
    },
    "papermill": {
     "duration": 0.036213,
     "end_time": "2022-07-10T05:00:19.363710",
     "exception": false,
     "start_time": "2022-07-10T05:00:19.327497",
     "status": "completed"
    },
    "tags": []
   },
   "outputs": [
    {
     "name": "stdout",
     "output_type": "stream",
     "text": [
      "   NumRooms  Alley_Pave  Alley_nan\n",
      "0       3.0           1          0\n",
      "1       2.0           0          1\n",
      "2       4.0           0          1\n",
      "3       3.0           0          1\n"
     ]
    }
   ],
   "source": [
    "inputs=pd.get_dummies(inputs,dummy_na=True)\n",
    "print(inputs)\n"
   ]
  },
  {
   "cell_type": "code",
   "execution_count": 24,
   "id": "6f27e139",
   "metadata": {
    "execution": {
     "iopub.execute_input": "2022-07-10T05:00:19.395650Z",
     "iopub.status.busy": "2022-07-10T05:00:19.395281Z",
     "iopub.status.idle": "2022-07-10T05:00:19.405935Z",
     "shell.execute_reply": "2022-07-10T05:00:19.405133Z"
    },
    "papermill": {
     "duration": 0.028848,
     "end_time": "2022-07-10T05:00:19.408096",
     "exception": false,
     "start_time": "2022-07-10T05:00:19.379248",
     "status": "completed"
    },
    "tags": []
   },
   "outputs": [
    {
     "data": {
      "text/plain": [
       "(tensor([[3., 1., 0.],\n",
       "         [2., 0., 1.],\n",
       "         [4., 0., 1.],\n",
       "         [3., 0., 1.]], dtype=torch.float64),\n",
       " tensor([127500, 106000, 178100, 140000]))"
      ]
     },
     "execution_count": 24,
     "metadata": {},
     "output_type": "execute_result"
    }
   ],
   "source": [
    "import torch\n",
    "X,y=torch.tensor(inputs.values),torch.tensor(outputs.values)\n",
    "X,y"
   ]
  },
  {
   "cell_type": "code",
   "execution_count": 25,
   "id": "509d27c3",
   "metadata": {
    "execution": {
     "iopub.execute_input": "2022-07-10T05:00:19.439418Z",
     "iopub.status.busy": "2022-07-10T05:00:19.439047Z",
     "iopub.status.idle": "2022-07-10T05:00:19.445468Z",
     "shell.execute_reply": "2022-07-10T05:00:19.444534Z"
    },
    "papermill": {
     "duration": 0.024682,
     "end_time": "2022-07-10T05:00:19.447528",
     "exception": false,
     "start_time": "2022-07-10T05:00:19.422846",
     "status": "completed"
    },
    "tags": []
   },
   "outputs": [
    {
     "data": {
      "text/plain": [
       "tensor([0, 1, 2, 3])"
      ]
     },
     "execution_count": 25,
     "metadata": {},
     "output_type": "execute_result"
    }
   ],
   "source": [
    "x=torch.arange(4)\n",
    "x"
   ]
  },
  {
   "cell_type": "code",
   "execution_count": 26,
   "id": "f6df564b",
   "metadata": {
    "execution": {
     "iopub.execute_input": "2022-07-10T05:00:19.480090Z",
     "iopub.status.busy": "2022-07-10T05:00:19.479698Z",
     "iopub.status.idle": "2022-07-10T05:00:19.486136Z",
     "shell.execute_reply": "2022-07-10T05:00:19.484947Z"
    },
    "papermill": {
     "duration": 0.02558,
     "end_time": "2022-07-10T05:00:19.488363",
     "exception": false,
     "start_time": "2022-07-10T05:00:19.462783",
     "status": "completed"
    },
    "tags": []
   },
   "outputs": [
    {
     "data": {
      "text/plain": [
       "4"
      ]
     },
     "execution_count": 26,
     "metadata": {},
     "output_type": "execute_result"
    }
   ],
   "source": [
    "len(x)"
   ]
  },
  {
   "cell_type": "code",
   "execution_count": 27,
   "id": "d16820dc",
   "metadata": {
    "execution": {
     "iopub.execute_input": "2022-07-10T05:00:19.521940Z",
     "iopub.status.busy": "2022-07-10T05:00:19.521221Z",
     "iopub.status.idle": "2022-07-10T05:00:19.527692Z",
     "shell.execute_reply": "2022-07-10T05:00:19.526538Z"
    },
    "papermill": {
     "duration": 0.02539,
     "end_time": "2022-07-10T05:00:19.529889",
     "exception": false,
     "start_time": "2022-07-10T05:00:19.504499",
     "status": "completed"
    },
    "tags": []
   },
   "outputs": [
    {
     "data": {
      "text/plain": [
       "torch.Size([4])"
      ]
     },
     "execution_count": 27,
     "metadata": {},
     "output_type": "execute_result"
    }
   ],
   "source": [
    "x.shape"
   ]
  },
  {
   "cell_type": "code",
   "execution_count": 28,
   "id": "5b95761d",
   "metadata": {
    "execution": {
     "iopub.execute_input": "2022-07-10T05:00:19.562718Z",
     "iopub.status.busy": "2022-07-10T05:00:19.562315Z",
     "iopub.status.idle": "2022-07-10T05:00:19.570576Z",
     "shell.execute_reply": "2022-07-10T05:00:19.569512Z"
    },
    "papermill": {
     "duration": 0.027161,
     "end_time": "2022-07-10T05:00:19.572867",
     "exception": false,
     "start_time": "2022-07-10T05:00:19.545706",
     "status": "completed"
    },
    "tags": []
   },
   "outputs": [
    {
     "data": {
      "text/plain": [
       "tensor([[ 0,  1,  2,  3],\n",
       "        [ 4,  5,  6,  7],\n",
       "        [ 8,  9, 10, 11],\n",
       "        [12, 13, 14, 15],\n",
       "        [16, 17, 18, 19]])"
      ]
     },
     "execution_count": 28,
     "metadata": {},
     "output_type": "execute_result"
    }
   ],
   "source": [
    "A=torch.arange(20).reshape(5,4)\n",
    "A"
   ]
  },
  {
   "cell_type": "code",
   "execution_count": 29,
   "id": "65806873",
   "metadata": {
    "execution": {
     "iopub.execute_input": "2022-07-10T05:00:19.605541Z",
     "iopub.status.busy": "2022-07-10T05:00:19.605153Z",
     "iopub.status.idle": "2022-07-10T05:00:19.612758Z",
     "shell.execute_reply": "2022-07-10T05:00:19.611464Z"
    },
    "papermill": {
     "duration": 0.026627,
     "end_time": "2022-07-10T05:00:19.615257",
     "exception": false,
     "start_time": "2022-07-10T05:00:19.588630",
     "status": "completed"
    },
    "tags": []
   },
   "outputs": [
    {
     "data": {
      "text/plain": [
       "tensor([[ 0,  4,  8, 12, 16],\n",
       "        [ 1,  5,  9, 13, 17],\n",
       "        [ 2,  6, 10, 14, 18],\n",
       "        [ 3,  7, 11, 15, 19]])"
      ]
     },
     "execution_count": 29,
     "metadata": {},
     "output_type": "execute_result"
    }
   ],
   "source": [
    "A.T"
   ]
  },
  {
   "cell_type": "code",
   "execution_count": 30,
   "id": "38a0f83e",
   "metadata": {
    "execution": {
     "iopub.execute_input": "2022-07-10T05:00:19.648257Z",
     "iopub.status.busy": "2022-07-10T05:00:19.647812Z",
     "iopub.status.idle": "2022-07-10T05:00:19.657955Z",
     "shell.execute_reply": "2022-07-10T05:00:19.656842Z"
    },
    "papermill": {
     "duration": 0.029214,
     "end_time": "2022-07-10T05:00:19.660214",
     "exception": false,
     "start_time": "2022-07-10T05:00:19.631000",
     "status": "completed"
    },
    "tags": []
   },
   "outputs": [
    {
     "data": {
      "text/plain": [
       "(tensor([[ 0.,  2.,  4.,  6.],\n",
       "         [ 8., 10., 12., 14.],\n",
       "         [16., 18., 20., 22.],\n",
       "         [24., 26., 28., 30.],\n",
       "         [32., 34., 36., 38.]]),\n",
       " tensor([[ 0.,  1.,  2.,  3.],\n",
       "         [ 4.,  5.,  6.,  7.],\n",
       "         [ 8.,  9., 10., 11.],\n",
       "         [12., 13., 14., 15.],\n",
       "         [16., 17., 18., 19.]]))"
      ]
     },
     "execution_count": 30,
     "metadata": {},
     "output_type": "execute_result"
    }
   ],
   "source": [
    "A=torch.arange(20,dtype=torch.float32).reshape(5,4)\n",
    "B=A.clone()\n",
    "A+B,A"
   ]
  },
  {
   "cell_type": "code",
   "execution_count": 31,
   "id": "c3ae01ef",
   "metadata": {
    "execution": {
     "iopub.execute_input": "2022-07-10T05:00:19.694417Z",
     "iopub.status.busy": "2022-07-10T05:00:19.693977Z",
     "iopub.status.idle": "2022-07-10T05:00:19.702229Z",
     "shell.execute_reply": "2022-07-10T05:00:19.701053Z"
    },
    "papermill": {
     "duration": 0.027229,
     "end_time": "2022-07-10T05:00:19.704459",
     "exception": false,
     "start_time": "2022-07-10T05:00:19.677230",
     "status": "completed"
    },
    "tags": []
   },
   "outputs": [
    {
     "data": {
      "text/plain": [
       "tensor([[  0.,   1.,   4.,   9.],\n",
       "        [ 16.,  25.,  36.,  49.],\n",
       "        [ 64.,  81., 100., 121.],\n",
       "        [144., 169., 196., 225.],\n",
       "        [256., 289., 324., 361.]])"
      ]
     },
     "execution_count": 31,
     "metadata": {},
     "output_type": "execute_result"
    }
   ],
   "source": [
    "A*B #Hadamard product"
   ]
  },
  {
   "cell_type": "code",
   "execution_count": 32,
   "id": "8f4a9835",
   "metadata": {
    "execution": {
     "iopub.execute_input": "2022-07-10T05:00:19.737834Z",
     "iopub.status.busy": "2022-07-10T05:00:19.737365Z",
     "iopub.status.idle": "2022-07-10T05:00:19.745963Z",
     "shell.execute_reply": "2022-07-10T05:00:19.745083Z"
    },
    "papermill": {
     "duration": 0.028639,
     "end_time": "2022-07-10T05:00:19.748728",
     "exception": false,
     "start_time": "2022-07-10T05:00:19.720089",
     "status": "completed"
    },
    "tags": []
   },
   "outputs": [
    {
     "data": {
      "text/plain": [
       "(tensor([0., 1., 2., 3.]), tensor(6.))"
      ]
     },
     "execution_count": 32,
     "metadata": {},
     "output_type": "execute_result"
    }
   ],
   "source": [
    "#Dimensionality reduction\n",
    "x=torch.arange(4,dtype=torch.float32)\n",
    "x,x.sum()"
   ]
  },
  {
   "cell_type": "code",
   "execution_count": 33,
   "id": "2254f765",
   "metadata": {
    "execution": {
     "iopub.execute_input": "2022-07-10T05:00:19.784154Z",
     "iopub.status.busy": "2022-07-10T05:00:19.783130Z",
     "iopub.status.idle": "2022-07-10T05:00:19.791323Z",
     "shell.execute_reply": "2022-07-10T05:00:19.790104Z"
    },
    "papermill": {
     "duration": 0.028305,
     "end_time": "2022-07-10T05:00:19.793671",
     "exception": false,
     "start_time": "2022-07-10T05:00:19.765366",
     "status": "completed"
    },
    "tags": []
   },
   "outputs": [
    {
     "data": {
      "text/plain": [
       "(torch.Size([1, 4]),\n",
       " tensor([[40., 45., 50., 55.]]),\n",
       " tensor([[ 0.,  1.,  2.,  3.],\n",
       "         [ 4.,  5.,  6.,  7.],\n",
       "         [ 8.,  9., 10., 11.],\n",
       "         [12., 13., 14., 15.],\n",
       "         [16., 17., 18., 19.]]))"
      ]
     },
     "execution_count": 33,
     "metadata": {},
     "output_type": "execute_result"
    }
   ],
   "source": [
    "A_sum=A.sum(axis=0,keepdims=True)\n",
    "A_sum.shape,A_sum,A\n"
   ]
  },
  {
   "cell_type": "code",
   "execution_count": 34,
   "id": "80e110cc",
   "metadata": {
    "execution": {
     "iopub.execute_input": "2022-07-10T05:00:19.828591Z",
     "iopub.status.busy": "2022-07-10T05:00:19.827232Z",
     "iopub.status.idle": "2022-07-10T05:00:19.836284Z",
     "shell.execute_reply": "2022-07-10T05:00:19.835233Z"
    },
    "papermill": {
     "duration": 0.028802,
     "end_time": "2022-07-10T05:00:19.838944",
     "exception": false,
     "start_time": "2022-07-10T05:00:19.810142",
     "status": "completed"
    },
    "tags": []
   },
   "outputs": [
    {
     "data": {
      "text/plain": [
       "(torch.Size([5, 1]),\n",
       " tensor([[ 6.],\n",
       "         [22.],\n",
       "         [38.],\n",
       "         [54.],\n",
       "         [70.]]))"
      ]
     },
     "execution_count": 34,
     "metadata": {},
     "output_type": "execute_result"
    }
   ],
   "source": [
    "A_sum2=A.sum(axis=1,keepdims=True)\n",
    "A_sum2.shape,A_sum2"
   ]
  },
  {
   "cell_type": "code",
   "execution_count": 35,
   "id": "6acca336",
   "metadata": {
    "execution": {
     "iopub.execute_input": "2022-07-10T05:00:19.873978Z",
     "iopub.status.busy": "2022-07-10T05:00:19.872727Z",
     "iopub.status.idle": "2022-07-10T05:00:19.882960Z",
     "shell.execute_reply": "2022-07-10T05:00:19.882122Z"
    },
    "papermill": {
     "duration": 0.030104,
     "end_time": "2022-07-10T05:00:19.885146",
     "exception": false,
     "start_time": "2022-07-10T05:00:19.855042",
     "status": "completed"
    },
    "tags": []
   },
   "outputs": [
    {
     "data": {
      "text/plain": [
       "(tensor([[ 8.,  9., 10., 11.]]), tensor([ 8.,  9., 10., 11.]))"
      ]
     },
     "execution_count": 35,
     "metadata": {},
     "output_type": "execute_result"
    }
   ],
   "source": [
    "A_mean=A.mean(axis=0,keepdims=True)\n",
    "A_test=A.sum(axis=0)/A.shape[0]\n",
    "A_mean,A_test"
   ]
  },
  {
   "cell_type": "code",
   "execution_count": 36,
   "id": "67fa00ff",
   "metadata": {
    "execution": {
     "iopub.execute_input": "2022-07-10T05:00:19.920628Z",
     "iopub.status.busy": "2022-07-10T05:00:19.919857Z",
     "iopub.status.idle": "2022-07-10T05:00:19.931806Z",
     "shell.execute_reply": "2022-07-10T05:00:19.931029Z"
    },
    "papermill": {
     "duration": 0.031906,
     "end_time": "2022-07-10T05:00:19.933900",
     "exception": false,
     "start_time": "2022-07-10T05:00:19.901994",
     "status": "completed"
    },
    "tags": []
   },
   "outputs": [
    {
     "data": {
      "text/plain": [
       "(tensor([0., 1., 2., 3.]), tensor([1., 1., 1., 1.]), tensor(6.))"
      ]
     },
     "execution_count": 36,
     "metadata": {},
     "output_type": "execute_result"
    }
   ],
   "source": [
    "#Dot product\n",
    "y=torch.ones(4,dtype=torch.float32)\n",
    "x,y,torch.dot(x,y)"
   ]
  },
  {
   "cell_type": "code",
   "execution_count": 37,
   "id": "7c79d410",
   "metadata": {
    "execution": {
     "iopub.execute_input": "2022-07-10T05:00:19.969037Z",
     "iopub.status.busy": "2022-07-10T05:00:19.968312Z",
     "iopub.status.idle": "2022-07-10T05:00:19.978421Z",
     "shell.execute_reply": "2022-07-10T05:00:19.977306Z"
    },
    "papermill": {
     "duration": 0.03034,
     "end_time": "2022-07-10T05:00:19.980547",
     "exception": false,
     "start_time": "2022-07-10T05:00:19.950207",
     "status": "completed"
    },
    "tags": []
   },
   "outputs": [
    {
     "data": {
      "text/plain": [
       "(torch.Size([5, 4]), torch.Size([4]), tensor([ 14.,  38.,  62.,  86., 110.]))"
      ]
     },
     "execution_count": 37,
     "metadata": {},
     "output_type": "execute_result"
    }
   ],
   "source": [
    "#Matrix-vector product\n",
    "A.shape,x.shape,torch.mv(A,x)"
   ]
  },
  {
   "cell_type": "code",
   "execution_count": 38,
   "id": "c78c96ea",
   "metadata": {
    "execution": {
     "iopub.execute_input": "2022-07-10T05:00:20.016044Z",
     "iopub.status.busy": "2022-07-10T05:00:20.015354Z",
     "iopub.status.idle": "2022-07-10T05:00:20.027670Z",
     "shell.execute_reply": "2022-07-10T05:00:20.026861Z"
    },
    "papermill": {
     "duration": 0.032868,
     "end_time": "2022-07-10T05:00:20.029612",
     "exception": false,
     "start_time": "2022-07-10T05:00:19.996744",
     "status": "completed"
    },
    "tags": []
   },
   "outputs": [
    {
     "data": {
      "text/plain": [
       "tensor([[ 6.,  6.,  6.],\n",
       "        [22., 22., 22.],\n",
       "        [38., 38., 38.],\n",
       "        [54., 54., 54.],\n",
       "        [70., 70., 70.]])"
      ]
     },
     "execution_count": 38,
     "metadata": {},
     "output_type": "execute_result"
    }
   ],
   "source": [
    "#Matrix-matrix product\n",
    "B=torch.ones(4,3)\n",
    "torch.mm(A,B)"
   ]
  },
  {
   "cell_type": "code",
   "execution_count": 39,
   "id": "a62d440a",
   "metadata": {
    "execution": {
     "iopub.execute_input": "2022-07-10T05:00:20.065292Z",
     "iopub.status.busy": "2022-07-10T05:00:20.064619Z",
     "iopub.status.idle": "2022-07-10T05:00:20.072530Z",
     "shell.execute_reply": "2022-07-10T05:00:20.071639Z"
    },
    "papermill": {
     "duration": 0.028431,
     "end_time": "2022-07-10T05:00:20.074578",
     "exception": false,
     "start_time": "2022-07-10T05:00:20.046147",
     "status": "completed"
    },
    "tags": []
   },
   "outputs": [
    {
     "data": {
      "text/plain": [
       "tensor(5.)"
      ]
     },
     "execution_count": 39,
     "metadata": {},
     "output_type": "execute_result"
    }
   ],
   "source": [
    "#Norm\n",
    "u=torch.tensor([3.0,-4.0])\n",
    "torch.norm(u)"
   ]
  },
  {
   "cell_type": "code",
   "execution_count": 40,
   "id": "d0fc4f6a",
   "metadata": {
    "execution": {
     "iopub.execute_input": "2022-07-10T05:00:20.110520Z",
     "iopub.status.busy": "2022-07-10T05:00:20.109794Z",
     "iopub.status.idle": "2022-07-10T05:00:20.116503Z",
     "shell.execute_reply": "2022-07-10T05:00:20.115658Z"
    },
    "papermill": {
     "duration": 0.027337,
     "end_time": "2022-07-10T05:00:20.118537",
     "exception": false,
     "start_time": "2022-07-10T05:00:20.091200",
     "status": "completed"
    },
    "tags": []
   },
   "outputs": [
    {
     "data": {
      "text/plain": [
       "tensor(7.)"
      ]
     },
     "execution_count": 40,
     "metadata": {},
     "output_type": "execute_result"
    }
   ],
   "source": [
    "torch.abs(u).sum()"
   ]
  },
  {
   "cell_type": "code",
   "execution_count": 41,
   "id": "44bd88ba",
   "metadata": {
    "execution": {
     "iopub.execute_input": "2022-07-10T05:00:20.155008Z",
     "iopub.status.busy": "2022-07-10T05:00:20.153944Z",
     "iopub.status.idle": "2022-07-10T05:00:20.161272Z",
     "shell.execute_reply": "2022-07-10T05:00:20.160481Z"
    },
    "papermill": {
     "duration": 0.027813,
     "end_time": "2022-07-10T05:00:20.163463",
     "exception": false,
     "start_time": "2022-07-10T05:00:20.135650",
     "status": "completed"
    },
    "tags": []
   },
   "outputs": [
    {
     "data": {
      "text/plain": [
       "tensor(6.)"
      ]
     },
     "execution_count": 41,
     "metadata": {},
     "output_type": "execute_result"
    }
   ],
   "source": [
    "torch.norm(torch.ones(4,9))"
   ]
  },
  {
   "cell_type": "code",
   "execution_count": 42,
   "id": "da598b62",
   "metadata": {
    "execution": {
     "iopub.execute_input": "2022-07-10T05:00:20.200856Z",
     "iopub.status.busy": "2022-07-10T05:00:20.200173Z",
     "iopub.status.idle": "2022-07-10T05:00:20.206688Z",
     "shell.execute_reply": "2022-07-10T05:00:20.205890Z"
    },
    "papermill": {
     "duration": 0.028372,
     "end_time": "2022-07-10T05:00:20.208784",
     "exception": false,
     "start_time": "2022-07-10T05:00:20.180412",
     "status": "completed"
    },
    "tags": []
   },
   "outputs": [
    {
     "data": {
      "text/plain": [
       "tensor([[True, True, True, True],\n",
       "        [True, True, True, True],\n",
       "        [True, True, True, True],\n",
       "        [True, True, True, True],\n",
       "        [True, True, True, True]])"
      ]
     },
     "execution_count": 42,
     "metadata": {},
     "output_type": "execute_result"
    }
   ],
   "source": [
    "Z=A.T\n",
    "Z.T==A"
   ]
  },
  {
   "cell_type": "code",
   "execution_count": 43,
   "id": "2775dbf7",
   "metadata": {
    "execution": {
     "iopub.execute_input": "2022-07-10T05:00:20.246115Z",
     "iopub.status.busy": "2022-07-10T05:00:20.245444Z",
     "iopub.status.idle": "2022-07-10T05:00:20.469373Z",
     "shell.execute_reply": "2022-07-10T05:00:20.468140Z"
    },
    "papermill": {
     "duration": 0.245656,
     "end_time": "2022-07-10T05:00:20.471949",
     "exception": false,
     "start_time": "2022-07-10T05:00:20.226293",
     "status": "completed"
    },
    "tags": []
   },
   "outputs": [
    {
     "name": "stdout",
     "output_type": "stream",
     "text": [
      "h=0.10000,numerical limit=2.30000\n",
      "h=0.01000,numerical limit=2.03000\n",
      "h=0.00100,numerical limit=2.00300\n",
      "h=0.00010,numerical limit=2.00030\n",
      "h=0.00001,numerical limit=2.00003\n"
     ]
    },
    {
     "data": {
      "image/png": "[encoded data removed]",
      "text/plain": [
       "<Figure size 432x288 with 1 Axes>"
      ]
     },
     "metadata": {
      "needs_background": "light"
     },
     "output_type": "display_data"
    }
   ],
   "source": [
    "# Derivatives and Differentiable\n",
    "import numpy as np\n",
    "import matplotlib.pyplot as plt\n",
    "\n",
    "def f(x):\n",
    "    return 3*x**2-4*x\n",
    "\n",
    "def numerical_lim(f,x,h):\n",
    "    return (f(x+h)-f(x))/h\n",
    "\n",
    "h=0.1\n",
    "for i in range(5):\n",
    "    print(f'h={h:.5f},numerical limit={numerical_lim(f,1,h):.5f}')\n",
    "    h*=0.1\n",
    "    \n",
    "x=np.arange(0,3,0.1)\n",
    "plt.plot(x,2*x-3,linestyle='--',label=\"Tangent line(x=1)\")\n",
    "plt.plot(x,f(x),label = 'f(x)')\n",
    "plt.show()\n"
   ]
  },
  {
   "cell_type": "code",
   "execution_count": 44,
   "id": "99a66279",
   "metadata": {
    "execution": {
     "iopub.execute_input": "2022-07-10T05:00:20.509932Z",
     "iopub.status.busy": "2022-07-10T05:00:20.508921Z",
     "iopub.status.idle": "2022-07-10T05:00:20.518805Z",
     "shell.execute_reply": "2022-07-10T05:00:20.517506Z"
    },
    "papermill": {
     "duration": 0.031036,
     "end_time": "2022-07-10T05:00:20.521192",
     "exception": false,
     "start_time": "2022-07-10T05:00:20.490156",
     "status": "completed"
    },
    "tags": []
   },
   "outputs": [
    {
     "data": {
      "text/plain": [
       "tensor(28., grad_fn=<MulBackward0>)"
      ]
     },
     "execution_count": 44,
     "metadata": {},
     "output_type": "execute_result"
    }
   ],
   "source": [
    "#Automatic differentiation\n",
    "import torch\n",
    "\n",
    "x=torch.arange(4.0,requires_grad=True)\n",
    "x.grad\n",
    "y=2*torch.dot(x,x)\n",
    "y"
   ]
  }
 ],
 "metadata": {
  "kernelspec": {
   "display_name": "Python 3",
   "language": "python",
   "name": "python3"
  },
  "language_info": {
   "codemirror_mode": {
    "name": "ipython",
    "version": 3
   },
   "file_extension": ".py",
   "mimetype": "text/x-python",
   "name": "python",
   "nbconvert_exporter": "python",
   "pygments_lexer": "ipython3",
   "version": "3.7.12"
  },
  "papermill": {
   "default_parameters": {},
   "duration": 15.042766,
   "end_time": "2022-07-10T05:00:21.360852",
   "environment_variables": {},
   "exception": null,
   "input_path": "__notebook__.ipynb",
   "output_path": "__notebook__.ipynb",
   "parameters": {},
   "start_time": "2022-07-10T05:00:06.318086",
   "version": "2.3.4"
  }
 },
 "nbformat": 4,
 "nbformat_minor": 5
}
