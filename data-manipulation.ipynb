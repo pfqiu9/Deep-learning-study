{
 "cells": [
  {
   "cell_type": "markdown",
   "id": "ee8fbc4f",
   "metadata": {
    "papermill": {
     "duration": 0.014772,
     "end_time": "2022-07-10T07:59:47.237479",
     "exception": false,
     "start_time": "2022-07-10T07:59:47.222707",
     "status": "completed"
    },
    "tags": []
   },
   "source": [
    "# Data manipulation\n",
    "Acquires data and reads it into the computer for processing"
   ]
  },
  {
   "cell_type": "markdown",
   "id": "54923a6a",
   "metadata": {
    "papermill": {
     "duration": 0.01334,
     "end_time": "2022-07-10T07:59:47.264690",
     "exception": false,
     "start_time": "2022-07-10T07:59:47.251350",
     "status": "completed"
    },
    "tags": []
   },
   "source": [
    "## First\n",
    "tensor"
   ]
  },
  {
   "cell_type": "code",
   "execution_count": 1,
   "id": "39779cff",
   "metadata": {
    "execution": {
     "iopub.execute_input": "2022-07-10T07:59:47.295264Z",
     "iopub.status.busy": "2022-07-10T07:59:47.294226Z",
     "iopub.status.idle": "2022-07-10T07:59:48.954083Z",
     "shell.execute_reply": "2022-07-10T07:59:48.952977Z"
    },
    "papermill": {
     "duration": 1.678315,
     "end_time": "2022-07-10T07:59:48.956855",
     "exception": false,
     "start_time": "2022-07-10T07:59:47.278540",
     "status": "completed"
    },
    "tags": []
   },
   "outputs": [
    {
     "data": {
      "text/plain": [
       "tensor([ 0,  1,  2,  3,  4,  5,  6,  7,  8,  9, 10, 11])"
      ]
     },
     "execution_count": 1,
     "metadata": {},
     "output_type": "execute_result"
    }
   ],
   "source": [
    "import torch\n",
    "x=torch.arange(12)\n",
    "x"
   ]
  },
  {
   "cell_type": "code",
   "execution_count": 2,
   "id": "a4f589e1",
   "metadata": {
    "_cell_guid": "b1076dfc-b9ad-4769-8c92-a6c4dae69d19",
    "_uuid": "8f2839f25d086af736a60e9eeb907d3b93b6e0e5",
    "execution": {
     "iopub.execute_input": "2022-07-10T07:59:48.987472Z",
     "iopub.status.busy": "2022-07-10T07:59:48.986925Z",
     "iopub.status.idle": "2022-07-10T07:59:48.994297Z",
     "shell.execute_reply": "2022-07-10T07:59:48.993244Z"
    },
    "papermill": {
     "duration": 0.02558,
     "end_time": "2022-07-10T07:59:48.996466",
     "exception": false,
     "start_time": "2022-07-10T07:59:48.970886",
     "status": "completed"
    },
    "tags": []
   },
   "outputs": [
    {
     "data": {
      "text/plain": [
       "torch.Size([12])"
      ]
     },
     "execution_count": 2,
     "metadata": {},
     "output_type": "execute_result"
    }
   ],
   "source": [
    "x.shape"
   ]
  },
  {
   "cell_type": "code",
   "execution_count": 3,
   "id": "4c228204",
   "metadata": {
    "execution": {
     "iopub.execute_input": "2022-07-10T07:59:49.027212Z",
     "iopub.status.busy": "2022-07-10T07:59:49.026427Z",
     "iopub.status.idle": "2022-07-10T07:59:49.033709Z",
     "shell.execute_reply": "2022-07-10T07:59:49.032655Z"
    },
    "papermill": {
     "duration": 0.02484,
     "end_time": "2022-07-10T07:59:49.035822",
     "exception": false,
     "start_time": "2022-07-10T07:59:49.010982",
     "status": "completed"
    },
    "tags": []
   },
   "outputs": [
    {
     "data": {
      "text/plain": [
       "12"
      ]
     },
     "execution_count": 3,
     "metadata": {},
     "output_type": "execute_result"
    }
   ],
   "source": [
    "x.numel()"
   ]
  },
  {
   "cell_type": "code",
   "execution_count": 4,
   "id": "327ba14c",
   "metadata": {
    "execution": {
     "iopub.execute_input": "2022-07-10T07:59:49.066002Z",
     "iopub.status.busy": "2022-07-10T07:59:49.065616Z",
     "iopub.status.idle": "2022-07-10T07:59:49.072836Z",
     "shell.execute_reply": "2022-07-10T07:59:49.071827Z"
    },
    "papermill": {
     "duration": 0.024845,
     "end_time": "2022-07-10T07:59:49.074935",
     "exception": false,
     "start_time": "2022-07-10T07:59:49.050090",
     "status": "completed"
    },
    "tags": []
   },
   "outputs": [
    {
     "data": {
      "text/plain": [
       "tensor([[ 0,  1,  2,  3],\n",
       "        [ 4,  5,  6,  7],\n",
       "        [ 8,  9, 10, 11]])"
      ]
     },
     "execution_count": 4,
     "metadata": {},
     "output_type": "execute_result"
    }
   ],
   "source": [
    "X=x.reshape(3,4)\n",
    "X"
   ]
  },
  {
   "cell_type": "code",
   "execution_count": 5,
   "id": "6c45c126",
   "metadata": {
    "execution": {
     "iopub.execute_input": "2022-07-10T07:59:49.104654Z",
     "iopub.status.busy": "2022-07-10T07:59:49.104242Z",
     "iopub.status.idle": "2022-07-10T07:59:49.111277Z",
     "shell.execute_reply": "2022-07-10T07:59:49.110554Z"
    },
    "papermill": {
     "duration": 0.024217,
     "end_time": "2022-07-10T07:59:49.113271",
     "exception": false,
     "start_time": "2022-07-10T07:59:49.089054",
     "status": "completed"
    },
    "tags": []
   },
   "outputs": [
    {
     "data": {
      "text/plain": [
       "tensor([[[0., 0., 0., 0.],\n",
       "         [0., 0., 0., 0.],\n",
       "         [0., 0., 0., 0.]],\n",
       "\n",
       "        [[0., 0., 0., 0.],\n",
       "         [0., 0., 0., 0.],\n",
       "         [0., 0., 0., 0.]]])"
      ]
     },
     "execution_count": 5,
     "metadata": {},
     "output_type": "execute_result"
    }
   ],
   "source": [
    "torch.zeros(2,3,4)"
   ]
  },
  {
   "cell_type": "code",
   "execution_count": 6,
   "id": "041ca762",
   "metadata": {
    "execution": {
     "iopub.execute_input": "2022-07-10T07:59:49.143686Z",
     "iopub.status.busy": "2022-07-10T07:59:49.143259Z",
     "iopub.status.idle": "2022-07-10T07:59:49.150317Z",
     "shell.execute_reply": "2022-07-10T07:59:49.149622Z"
    },
    "papermill": {
     "duration": 0.024485,
     "end_time": "2022-07-10T07:59:49.152284",
     "exception": false,
     "start_time": "2022-07-10T07:59:49.127799",
     "status": "completed"
    },
    "tags": []
   },
   "outputs": [
    {
     "data": {
      "text/plain": [
       "tensor([[[1., 1., 1., 1.],\n",
       "         [1., 1., 1., 1.],\n",
       "         [1., 1., 1., 1.]],\n",
       "\n",
       "        [[1., 1., 1., 1.],\n",
       "         [1., 1., 1., 1.],\n",
       "         [1., 1., 1., 1.]]])"
      ]
     },
     "execution_count": 6,
     "metadata": {},
     "output_type": "execute_result"
    }
   ],
   "source": [
    "torch.ones(2,3,4)"
   ]
  },
  {
   "cell_type": "code",
   "execution_count": 7,
   "id": "2684e6f7",
   "metadata": {
    "execution": {
     "iopub.execute_input": "2022-07-10T07:59:49.183389Z",
     "iopub.status.busy": "2022-07-10T07:59:49.183015Z",
     "iopub.status.idle": "2022-07-10T07:59:49.192370Z",
     "shell.execute_reply": "2022-07-10T07:59:49.191428Z"
    },
    "papermill": {
     "duration": 0.027754,
     "end_time": "2022-07-10T07:59:49.194318",
     "exception": false,
     "start_time": "2022-07-10T07:59:49.166564",
     "status": "completed"
    },
    "tags": []
   },
   "outputs": [
    {
     "data": {
      "text/plain": [
       "tensor([[-0.7870, -0.7754, -0.9827,  1.1382],\n",
       "        [-2.7542,  0.9359, -0.6562, -0.1259],\n",
       "        [ 0.0089, -0.8775, -0.9001, -0.7388]])"
      ]
     },
     "execution_count": 7,
     "metadata": {},
     "output_type": "execute_result"
    }
   ],
   "source": [
    "torch.randn(3,4)  #Random sampling in a standard Gassian distribution"
   ]
  },
  {
   "cell_type": "code",
   "execution_count": 8,
   "id": "48af59f3",
   "metadata": {
    "execution": {
     "iopub.execute_input": "2022-07-10T07:59:49.225764Z",
     "iopub.status.busy": "2022-07-10T07:59:49.224631Z",
     "iopub.status.idle": "2022-07-10T07:59:49.232231Z",
     "shell.execute_reply": "2022-07-10T07:59:49.231226Z"
    },
    "papermill": {
     "duration": 0.025552,
     "end_time": "2022-07-10T07:59:49.234416",
     "exception": false,
     "start_time": "2022-07-10T07:59:49.208864",
     "status": "completed"
    },
    "tags": []
   },
   "outputs": [
    {
     "data": {
      "text/plain": [
       "tensor([[1, 2, 3, 4],\n",
       "        [1, 3, 4, 5],\n",
       "        [2, 3, 1, 4]])"
      ]
     },
     "execution_count": 8,
     "metadata": {},
     "output_type": "execute_result"
    }
   ],
   "source": [
    "torch.tensor([[1,2,3,4],[1,3,4,5],[2,3,1,4]])"
   ]
  },
  {
   "cell_type": "code",
   "execution_count": 9,
   "id": "3f42fc16",
   "metadata": {
    "execution": {
     "iopub.execute_input": "2022-07-10T07:59:49.265824Z",
     "iopub.status.busy": "2022-07-10T07:59:49.265411Z",
     "iopub.status.idle": "2022-07-10T07:59:49.276528Z",
     "shell.execute_reply": "2022-07-10T07:59:49.275555Z"
    },
    "papermill": {
     "duration": 0.02947,
     "end_time": "2022-07-10T07:59:49.278717",
     "exception": false,
     "start_time": "2022-07-10T07:59:49.249247",
     "status": "completed"
    },
    "tags": []
   },
   "outputs": [
    {
     "data": {
      "text/plain": [
       "(tensor([4, 2, 4, 6, 5]),\n",
       " tensor([-4,  0,  0,  0,  3]),\n",
       " tensor([0, 1, 4, 9, 4]),\n",
       " tensor([0., 1., 1., 1., 4.]),\n",
       " tensor([ 0,  1,  4, 27,  4]))"
      ]
     },
     "execution_count": 9,
     "metadata": {},
     "output_type": "execute_result"
    }
   ],
   "source": [
    "x=torch.arange(5)\n",
    "y=torch.tensor([4,1,2,3,1])\n",
    "x+y,x-y,x*y,x/y,x**y"
   ]
  },
  {
   "cell_type": "code",
   "execution_count": 10,
   "id": "2ebd562f",
   "metadata": {
    "execution": {
     "iopub.execute_input": "2022-07-10T07:59:49.309803Z",
     "iopub.status.busy": "2022-07-10T07:59:49.309434Z",
     "iopub.status.idle": "2022-07-10T07:59:49.322872Z",
     "shell.execute_reply": "2022-07-10T07:59:49.322067Z"
    },
    "papermill": {
     "duration": 0.031413,
     "end_time": "2022-07-10T07:59:49.324839",
     "exception": false,
     "start_time": "2022-07-10T07:59:49.293426",
     "status": "completed"
    },
    "tags": []
   },
   "outputs": [
    {
     "data": {
      "text/plain": [
       "tensor([ 1.0000,  2.7183,  7.3891, 20.0855, 54.5981])"
      ]
     },
     "execution_count": 10,
     "metadata": {},
     "output_type": "execute_result"
    }
   ],
   "source": [
    "torch.exp(x) #find the power sign"
   ]
  },
  {
   "cell_type": "code",
   "execution_count": 11,
   "id": "3584e236",
   "metadata": {
    "execution": {
     "iopub.execute_input": "2022-07-10T07:59:49.355849Z",
     "iopub.status.busy": "2022-07-10T07:59:49.355430Z",
     "iopub.status.idle": "2022-07-10T07:59:49.366354Z",
     "shell.execute_reply": "2022-07-10T07:59:49.365568Z"
    },
    "papermill": {
     "duration": 0.028814,
     "end_time": "2022-07-10T07:59:49.368294",
     "exception": false,
     "start_time": "2022-07-10T07:59:49.339480",
     "status": "completed"
    },
    "tags": []
   },
   "outputs": [
    {
     "data": {
      "text/plain": [
       "(tensor([[ 0.,  1.,  2.,  3.],\n",
       "         [ 4.,  5.,  6.,  7.],\n",
       "         [ 8.,  9., 10., 11.],\n",
       "         [ 1.,  3.,  5.,  2.],\n",
       "         [ 1.,  2.,  3.,  2.],\n",
       "         [ 1.,  5.,  3.,  9.]]),\n",
       " tensor([[ 0.,  1.,  2.,  3.,  1.,  3.,  5.,  2.],\n",
       "         [ 4.,  5.,  6.,  7.,  1.,  2.,  3.,  2.],\n",
       "         [ 8.,  9., 10., 11.,  1.,  5.,  3.,  9.]]))"
      ]
     },
     "execution_count": 11,
     "metadata": {},
     "output_type": "execute_result"
    }
   ],
   "source": [
    "X=torch.arange(12,dtype=torch.float32).reshape(3,4)\n",
    "Y=torch.tensor([[1,3,5,2],[1,2,3,2],[1,5,3,9]])\n",
    "torch.cat((X,Y),dim=0),torch.cat((X,Y),dim=1)"
   ]
  },
  {
   "cell_type": "code",
   "execution_count": 12,
   "id": "be47f274",
   "metadata": {
    "execution": {
     "iopub.execute_input": "2022-07-10T07:59:49.399607Z",
     "iopub.status.busy": "2022-07-10T07:59:49.399206Z",
     "iopub.status.idle": "2022-07-10T07:59:49.406557Z",
     "shell.execute_reply": "2022-07-10T07:59:49.405682Z"
    },
    "papermill": {
     "duration": 0.025464,
     "end_time": "2022-07-10T07:59:49.408721",
     "exception": false,
     "start_time": "2022-07-10T07:59:49.383257",
     "status": "completed"
    },
    "tags": []
   },
   "outputs": [
    {
     "data": {
      "text/plain": [
       "tensor(66.)"
      ]
     },
     "execution_count": 12,
     "metadata": {},
     "output_type": "execute_result"
    }
   ],
   "source": [
    "X.sum()"
   ]
  },
  {
   "cell_type": "code",
   "execution_count": 13,
   "id": "43374bf2",
   "metadata": {
    "execution": {
     "iopub.execute_input": "2022-07-10T07:59:49.440350Z",
     "iopub.status.busy": "2022-07-10T07:59:49.439974Z",
     "iopub.status.idle": "2022-07-10T07:59:49.447775Z",
     "shell.execute_reply": "2022-07-10T07:59:49.446831Z"
    },
    "papermill": {
     "duration": 0.026024,
     "end_time": "2022-07-10T07:59:49.449788",
     "exception": false,
     "start_time": "2022-07-10T07:59:49.423764",
     "status": "completed"
    },
    "tags": []
   },
   "outputs": [
    {
     "data": {
      "text/plain": [
       "(tensor([[0],\n",
       "         [1],\n",
       "         [2]]),\n",
       " tensor([[0, 1]]))"
      ]
     },
     "execution_count": 13,
     "metadata": {},
     "output_type": "execute_result"
    }
   ],
   "source": [
    "#Broadcast Mechanism\n",
    "a=torch.arange(3).reshape(3,1)\n",
    "b=torch.arange(2).reshape(1,2)\n",
    "a,b"
   ]
  },
  {
   "cell_type": "code",
   "execution_count": 14,
   "id": "829cb746",
   "metadata": {
    "execution": {
     "iopub.execute_input": "2022-07-10T07:59:49.482890Z",
     "iopub.status.busy": "2022-07-10T07:59:49.482545Z",
     "iopub.status.idle": "2022-07-10T07:59:49.488598Z",
     "shell.execute_reply": "2022-07-10T07:59:49.487815Z"
    },
    "papermill": {
     "duration": 0.025426,
     "end_time": "2022-07-10T07:59:49.490714",
     "exception": false,
     "start_time": "2022-07-10T07:59:49.465288",
     "status": "completed"
    },
    "tags": []
   },
   "outputs": [
    {
     "data": {
      "text/plain": [
       "tensor([[0, 1],\n",
       "        [1, 2],\n",
       "        [2, 3]])"
      ]
     },
     "execution_count": 14,
     "metadata": {},
     "output_type": "execute_result"
    }
   ],
   "source": [
    "a+b"
   ]
  },
  {
   "cell_type": "code",
   "execution_count": 15,
   "id": "6f6b158c",
   "metadata": {
    "execution": {
     "iopub.execute_input": "2022-07-10T07:59:49.523168Z",
     "iopub.status.busy": "2022-07-10T07:59:49.522782Z",
     "iopub.status.idle": "2022-07-10T07:59:49.530928Z",
     "shell.execute_reply": "2022-07-10T07:59:49.529951Z"
    },
    "papermill": {
     "duration": 0.026762,
     "end_time": "2022-07-10T07:59:49.532969",
     "exception": false,
     "start_time": "2022-07-10T07:59:49.506207",
     "status": "completed"
    },
    "tags": []
   },
   "outputs": [
    {
     "data": {
      "text/plain": [
       "(tensor([ 8.,  9., 10., 11.]),\n",
       " tensor([[ 4.,  5.,  6.,  7.],\n",
       "         [ 8.,  9., 10., 11.]]))"
      ]
     },
     "execution_count": 15,
     "metadata": {},
     "output_type": "execute_result"
    }
   ],
   "source": [
    "X[-1],X[1:3]"
   ]
  },
  {
   "cell_type": "code",
   "execution_count": 16,
   "id": "632cd132",
   "metadata": {
    "execution": {
     "iopub.execute_input": "2022-07-10T07:59:49.566099Z",
     "iopub.status.busy": "2022-07-10T07:59:49.565360Z",
     "iopub.status.idle": "2022-07-10T07:59:49.571790Z",
     "shell.execute_reply": "2022-07-10T07:59:49.571062Z"
    },
    "papermill": {
     "duration": 0.025045,
     "end_time": "2022-07-10T07:59:49.573665",
     "exception": false,
     "start_time": "2022-07-10T07:59:49.548620",
     "status": "completed"
    },
    "tags": []
   },
   "outputs": [
    {
     "data": {
      "text/plain": [
       "tensor([[ 0.,  1.,  2.,  3.],\n",
       "        [ 4.,  5.,  9.,  7.],\n",
       "        [ 8.,  9., 10., 11.]])"
      ]
     },
     "execution_count": 16,
     "metadata": {},
     "output_type": "execute_result"
    }
   ],
   "source": [
    "X[1,2]=9\n",
    "X"
   ]
  },
  {
   "cell_type": "code",
   "execution_count": 17,
   "id": "781b15cf",
   "metadata": {
    "execution": {
     "iopub.execute_input": "2022-07-10T07:59:49.607168Z",
     "iopub.status.busy": "2022-07-10T07:59:49.606362Z",
     "iopub.status.idle": "2022-07-10T07:59:49.614083Z",
     "shell.execute_reply": "2022-07-10T07:59:49.613079Z"
    },
    "papermill": {
     "duration": 0.027093,
     "end_time": "2022-07-10T07:59:49.616296",
     "exception": false,
     "start_time": "2022-07-10T07:59:49.589203",
     "status": "completed"
    },
    "tags": []
   },
   "outputs": [
    {
     "data": {
      "text/plain": [
       "tensor([[12., 12., 12., 12.],\n",
       "        [12., 12., 12., 12.],\n",
       "        [ 8.,  9., 10., 11.]])"
      ]
     },
     "execution_count": 17,
     "metadata": {},
     "output_type": "execute_result"
    }
   ],
   "source": [
    "X[0:2,:]=12\n",
    "X"
   ]
  },
  {
   "cell_type": "code",
   "execution_count": 18,
   "id": "8fb0c91c",
   "metadata": {
    "execution": {
     "iopub.execute_input": "2022-07-10T07:59:49.649731Z",
     "iopub.status.busy": "2022-07-10T07:59:49.648952Z",
     "iopub.status.idle": "2022-07-10T07:59:49.656113Z",
     "shell.execute_reply": "2022-07-10T07:59:49.655278Z"
    },
    "papermill": {
     "duration": 0.026333,
     "end_time": "2022-07-10T07:59:49.658244",
     "exception": false,
     "start_time": "2022-07-10T07:59:49.631911",
     "status": "completed"
    },
    "tags": []
   },
   "outputs": [
    {
     "data": {
      "text/plain": [
       "False"
      ]
     },
     "execution_count": 18,
     "metadata": {},
     "output_type": "execute_result"
    }
   ],
   "source": [
    "before =id(Y)\n",
    "Y=Y+X\n",
    "id(Y)==before"
   ]
  },
  {
   "cell_type": "code",
   "execution_count": 19,
   "id": "a7fc2133",
   "metadata": {
    "execution": {
     "iopub.execute_input": "2022-07-10T07:59:49.691750Z",
     "iopub.status.busy": "2022-07-10T07:59:49.691010Z",
     "iopub.status.idle": "2022-07-10T07:59:49.698442Z",
     "shell.execute_reply": "2022-07-10T07:59:49.697580Z"
    },
    "papermill": {
     "duration": 0.026667,
     "end_time": "2022-07-10T07:59:49.700645",
     "exception": false,
     "start_time": "2022-07-10T07:59:49.673978",
     "status": "completed"
    },
    "tags": []
   },
   "outputs": [
    {
     "data": {
      "text/plain": [
       "True"
      ]
     },
     "execution_count": 19,
     "metadata": {},
     "output_type": "execute_result"
    }
   ],
   "source": [
    "before=id(X)\n",
    "X+=Y  #reduce memory overhead\n",
    "id(X)==before"
   ]
  },
  {
   "cell_type": "code",
   "execution_count": 20,
   "id": "098f48c2",
   "metadata": {
    "execution": {
     "iopub.execute_input": "2022-07-10T07:59:49.735283Z",
     "iopub.status.busy": "2022-07-10T07:59:49.734535Z",
     "iopub.status.idle": "2022-07-10T07:59:49.741788Z",
     "shell.execute_reply": "2022-07-10T07:59:49.740965Z"
    },
    "papermill": {
     "duration": 0.027542,
     "end_time": "2022-07-10T07:59:49.744121",
     "exception": false,
     "start_time": "2022-07-10T07:59:49.716579",
     "status": "completed"
    },
    "tags": []
   },
   "outputs": [],
   "source": [
    "import os\n",
    "os.makedirs(os.path.join('kaggle','input','data'),exist_ok=True)\n",
    "data_files=os.path.join('kaggle','input','data','house_tiny.csv')\n",
    "with open(data_files,'w') as f:\n",
    "    f.write('NumRooms,Alley,Price\\n') #listings\n",
    "    f.write('NA,Pave,127500\\n')\n",
    "    f.write('2,NA,106000\\n')\n",
    "    f.write('4,NA,178100\\n')\n",
    "    f.write('NA,NA,140000\\n')\n"
   ]
  },
  {
   "cell_type": "code",
   "execution_count": 21,
   "id": "2c8d6a32",
   "metadata": {
    "execution": {
     "iopub.execute_input": "2022-07-10T07:59:49.779340Z",
     "iopub.status.busy": "2022-07-10T07:59:49.778584Z",
     "iopub.status.idle": "2022-07-10T07:59:49.796793Z",
     "shell.execute_reply": "2022-07-10T07:59:49.795560Z"
    },
    "papermill": {
     "duration": 0.039185,
     "end_time": "2022-07-10T07:59:49.799957",
     "exception": false,
     "start_time": "2022-07-10T07:59:49.760772",
     "status": "completed"
    },
    "tags": []
   },
   "outputs": [
    {
     "name": "stdout",
     "output_type": "stream",
     "text": [
      "   NumRooms Alley   Price\n",
      "0       NaN  Pave  127500\n",
      "1       2.0   NaN  106000\n",
      "2       4.0   NaN  178100\n",
      "3       NaN   NaN  140000\n"
     ]
    }
   ],
   "source": [
    "import pandas as pd\n",
    "data=pd.read_csv(data_files)\n",
    "print(data)"
   ]
  },
  {
   "cell_type": "code",
   "execution_count": 22,
   "id": "42711225",
   "metadata": {
    "execution": {
     "iopub.execute_input": "2022-07-10T07:59:49.835264Z",
     "iopub.status.busy": "2022-07-10T07:59:49.834439Z",
     "iopub.status.idle": "2022-07-10T07:59:49.851754Z",
     "shell.execute_reply": "2022-07-10T07:59:49.850194Z"
    },
    "papermill": {
     "duration": 0.03757,
     "end_time": "2022-07-10T07:59:49.854454",
     "exception": false,
     "start_time": "2022-07-10T07:59:49.816884",
     "status": "completed"
    },
    "tags": []
   },
   "outputs": [
    {
     "name": "stdout",
     "output_type": "stream",
     "text": [
      "   NumRooms Alley\n",
      "0       3.0  Pave\n",
      "1       2.0   NaN\n",
      "2       4.0   NaN\n",
      "3       3.0   NaN\n"
     ]
    },
    {
     "name": "stderr",
     "output_type": "stream",
     "text": [
      "/opt/conda/lib/python3.7/site-packages/ipykernel_launcher.py:2: FutureWarning: Dropping of nuisance columns in DataFrame reductions (with 'numeric_only=None') is deprecated; in a future version this will raise TypeError.  Select only valid columns before calling the reduction.\n",
      "  \n"
     ]
    }
   ],
   "source": [
    "inputs,outputs=data.iloc[:,0:2],data.iloc[:,2]\n",
    "inputs=inputs.fillna(inputs.mean())\n",
    "print(inputs)"
   ]
  },
  {
   "cell_type": "code",
   "execution_count": 23,
   "id": "19f2adc5",
   "metadata": {
    "execution": {
     "iopub.execute_input": "2022-07-10T07:59:49.889877Z",
     "iopub.status.busy": "2022-07-10T07:59:49.889371Z",
     "iopub.status.idle": "2022-07-10T07:59:49.904061Z",
     "shell.execute_reply": "2022-07-10T07:59:49.903268Z"
    },
    "papermill": {
     "duration": 0.035688,
     "end_time": "2022-07-10T07:59:49.906927",
     "exception": false,
     "start_time": "2022-07-10T07:59:49.871239",
     "status": "completed"
    },
    "tags": []
   },
   "outputs": [
    {
     "name": "stdout",
     "output_type": "stream",
     "text": [
      "   NumRooms  Alley_Pave  Alley_nan\n",
      "0       3.0           1          0\n",
      "1       2.0           0          1\n",
      "2       4.0           0          1\n",
      "3       3.0           0          1\n"
     ]
    }
   ],
   "source": [
    "inputs=pd.get_dummies(inputs,dummy_na=True)\n",
    "print(inputs)\n"
   ]
  },
  {
   "cell_type": "code",
   "execution_count": 24,
   "id": "b2be71e9",
   "metadata": {
    "execution": {
     "iopub.execute_input": "2022-07-10T07:59:49.942897Z",
     "iopub.status.busy": "2022-07-10T07:59:49.942216Z",
     "iopub.status.idle": "2022-07-10T07:59:49.952987Z",
     "shell.execute_reply": "2022-07-10T07:59:49.951983Z"
    },
    "papermill": {
     "duration": 0.030688,
     "end_time": "2022-07-10T07:59:49.955038",
     "exception": false,
     "start_time": "2022-07-10T07:59:49.924350",
     "status": "completed"
    },
    "tags": []
   },
   "outputs": [
    {
     "data": {
      "text/plain": [
       "(tensor([[3., 1., 0.],\n",
       "         [2., 0., 1.],\n",
       "         [4., 0., 1.],\n",
       "         [3., 0., 1.]], dtype=torch.float64),\n",
       " tensor([127500, 106000, 178100, 140000]))"
      ]
     },
     "execution_count": 24,
     "metadata": {},
     "output_type": "execute_result"
    }
   ],
   "source": [
    "import torch\n",
    "X,y=torch.tensor(inputs.values),torch.tensor(outputs.values)\n",
    "X,y"
   ]
  },
  {
   "cell_type": "code",
   "execution_count": 25,
   "id": "0545415d",
   "metadata": {
    "execution": {
     "iopub.execute_input": "2022-07-10T07:59:49.989871Z",
     "iopub.status.busy": "2022-07-10T07:59:49.989185Z",
     "iopub.status.idle": "2022-07-10T07:59:49.995284Z",
     "shell.execute_reply": "2022-07-10T07:59:49.994541Z"
    },
    "papermill": {
     "duration": 0.025759,
     "end_time": "2022-07-10T07:59:49.997253",
     "exception": false,
     "start_time": "2022-07-10T07:59:49.971494",
     "status": "completed"
    },
    "tags": []
   },
   "outputs": [
    {
     "data": {
      "text/plain": [
       "tensor([0, 1, 2, 3])"
      ]
     },
     "execution_count": 25,
     "metadata": {},
     "output_type": "execute_result"
    }
   ],
   "source": [
    "x=torch.arange(4)\n",
    "x"
   ]
  },
  {
   "cell_type": "code",
   "execution_count": 26,
   "id": "1269f8c5",
   "metadata": {
    "execution": {
     "iopub.execute_input": "2022-07-10T07:59:50.032499Z",
     "iopub.status.busy": "2022-07-10T07:59:50.031838Z",
     "iopub.status.idle": "2022-07-10T07:59:50.037537Z",
     "shell.execute_reply": "2022-07-10T07:59:50.036543Z"
    },
    "papermill": {
     "duration": 0.025787,
     "end_time": "2022-07-10T07:59:50.039584",
     "exception": false,
     "start_time": "2022-07-10T07:59:50.013797",
     "status": "completed"
    },
    "tags": []
   },
   "outputs": [
    {
     "data": {
      "text/plain": [
       "4"
      ]
     },
     "execution_count": 26,
     "metadata": {},
     "output_type": "execute_result"
    }
   ],
   "source": [
    "len(x)"
   ]
  },
  {
   "cell_type": "code",
   "execution_count": 27,
   "id": "3e251818",
   "metadata": {
    "execution": {
     "iopub.execute_input": "2022-07-10T07:59:50.074888Z",
     "iopub.status.busy": "2022-07-10T07:59:50.074210Z",
     "iopub.status.idle": "2022-07-10T07:59:50.079770Z",
     "shell.execute_reply": "2022-07-10T07:59:50.078848Z"
    },
    "papermill": {
     "duration": 0.025412,
     "end_time": "2022-07-10T07:59:50.081697",
     "exception": false,
     "start_time": "2022-07-10T07:59:50.056285",
     "status": "completed"
    },
    "tags": []
   },
   "outputs": [
    {
     "data": {
      "text/plain": [
       "torch.Size([4])"
      ]
     },
     "execution_count": 27,
     "metadata": {},
     "output_type": "execute_result"
    }
   ],
   "source": [
    "x.shape"
   ]
  },
  {
   "cell_type": "code",
   "execution_count": 28,
   "id": "c590b2bd",
   "metadata": {
    "execution": {
     "iopub.execute_input": "2022-07-10T07:59:50.116953Z",
     "iopub.status.busy": "2022-07-10T07:59:50.116293Z",
     "iopub.status.idle": "2022-07-10T07:59:50.122591Z",
     "shell.execute_reply": "2022-07-10T07:59:50.121834Z"
    },
    "papermill": {
     "duration": 0.026262,
     "end_time": "2022-07-10T07:59:50.124542",
     "exception": false,
     "start_time": "2022-07-10T07:59:50.098280",
     "status": "completed"
    },
    "tags": []
   },
   "outputs": [
    {
     "data": {
      "text/plain": [
       "tensor([[ 0,  1,  2,  3],\n",
       "        [ 4,  5,  6,  7],\n",
       "        [ 8,  9, 10, 11],\n",
       "        [12, 13, 14, 15],\n",
       "        [16, 17, 18, 19]])"
      ]
     },
     "execution_count": 28,
     "metadata": {},
     "output_type": "execute_result"
    }
   ],
   "source": [
    "A=torch.arange(20).reshape(5,4)\n",
    "A"
   ]
  },
  {
   "cell_type": "code",
   "execution_count": 29,
   "id": "f9e2a500",
   "metadata": {
    "execution": {
     "iopub.execute_input": "2022-07-10T07:59:50.160334Z",
     "iopub.status.busy": "2022-07-10T07:59:50.159675Z",
     "iopub.status.idle": "2022-07-10T07:59:50.165479Z",
     "shell.execute_reply": "2022-07-10T07:59:50.164726Z"
    },
    "papermill": {
     "duration": 0.026122,
     "end_time": "2022-07-10T07:59:50.167444",
     "exception": false,
     "start_time": "2022-07-10T07:59:50.141322",
     "status": "completed"
    },
    "tags": []
   },
   "outputs": [
    {
     "data": {
      "text/plain": [
       "tensor([[ 0,  4,  8, 12, 16],\n",
       "        [ 1,  5,  9, 13, 17],\n",
       "        [ 2,  6, 10, 14, 18],\n",
       "        [ 3,  7, 11, 15, 19]])"
      ]
     },
     "execution_count": 29,
     "metadata": {},
     "output_type": "execute_result"
    }
   ],
   "source": [
    "A.T"
   ]
  },
  {
   "cell_type": "code",
   "execution_count": 30,
   "id": "c8134fc5",
   "metadata": {
    "execution": {
     "iopub.execute_input": "2022-07-10T07:59:50.203554Z",
     "iopub.status.busy": "2022-07-10T07:59:50.202794Z",
     "iopub.status.idle": "2022-07-10T07:59:50.211737Z",
     "shell.execute_reply": "2022-07-10T07:59:50.210909Z"
    },
    "papermill": {
     "duration": 0.029554,
     "end_time": "2022-07-10T07:59:50.213884",
     "exception": false,
     "start_time": "2022-07-10T07:59:50.184330",
     "status": "completed"
    },
    "tags": []
   },
   "outputs": [
    {
     "data": {
      "text/plain": [
       "(tensor([[ 0.,  2.,  4.,  6.],\n",
       "         [ 8., 10., 12., 14.],\n",
       "         [16., 18., 20., 22.],\n",
       "         [24., 26., 28., 30.],\n",
       "         [32., 34., 36., 38.]]),\n",
       " tensor([[ 0.,  1.,  2.,  3.],\n",
       "         [ 4.,  5.,  6.,  7.],\n",
       "         [ 8.,  9., 10., 11.],\n",
       "         [12., 13., 14., 15.],\n",
       "         [16., 17., 18., 19.]]))"
      ]
     },
     "execution_count": 30,
     "metadata": {},
     "output_type": "execute_result"
    }
   ],
   "source": [
    "A=torch.arange(20,dtype=torch.float32).reshape(5,4)\n",
    "B=A.clone()\n",
    "A+B,A"
   ]
  },
  {
   "cell_type": "code",
   "execution_count": 31,
   "id": "7013a950",
   "metadata": {
    "execution": {
     "iopub.execute_input": "2022-07-10T07:59:50.250220Z",
     "iopub.status.busy": "2022-07-10T07:59:50.249443Z",
     "iopub.status.idle": "2022-07-10T07:59:50.257048Z",
     "shell.execute_reply": "2022-07-10T07:59:50.256068Z"
    },
    "papermill": {
     "duration": 0.028397,
     "end_time": "2022-07-10T07:59:50.259201",
     "exception": false,
     "start_time": "2022-07-10T07:59:50.230804",
     "status": "completed"
    },
    "tags": []
   },
   "outputs": [
    {
     "data": {
      "text/plain": [
       "tensor([[  0.,   1.,   4.,   9.],\n",
       "        [ 16.,  25.,  36.,  49.],\n",
       "        [ 64.,  81., 100., 121.],\n",
       "        [144., 169., 196., 225.],\n",
       "        [256., 289., 324., 361.]])"
      ]
     },
     "execution_count": 31,
     "metadata": {},
     "output_type": "execute_result"
    }
   ],
   "source": [
    "A*B #Hadamard product"
   ]
  },
  {
   "cell_type": "code",
   "execution_count": 32,
   "id": "9b3fbe9f",
   "metadata": {
    "execution": {
     "iopub.execute_input": "2022-07-10T07:59:50.295687Z",
     "iopub.status.busy": "2022-07-10T07:59:50.294939Z",
     "iopub.status.idle": "2022-07-10T07:59:50.302960Z",
     "shell.execute_reply": "2022-07-10T07:59:50.302032Z"
    },
    "papermill": {
     "duration": 0.028706,
     "end_time": "2022-07-10T07:59:50.305090",
     "exception": false,
     "start_time": "2022-07-10T07:59:50.276384",
     "status": "completed"
    },
    "tags": []
   },
   "outputs": [
    {
     "data": {
      "text/plain": [
       "(tensor([0., 1., 2., 3.]), tensor(6.))"
      ]
     },
     "execution_count": 32,
     "metadata": {},
     "output_type": "execute_result"
    }
   ],
   "source": [
    "#Dimensionality reduction\n",
    "x=torch.arange(4,dtype=torch.float32)\n",
    "x,x.sum()"
   ]
  },
  {
   "cell_type": "code",
   "execution_count": 33,
   "id": "463ffc20",
   "metadata": {
    "execution": {
     "iopub.execute_input": "2022-07-10T07:59:50.342157Z",
     "iopub.status.busy": "2022-07-10T07:59:50.341553Z",
     "iopub.status.idle": "2022-07-10T07:59:50.349822Z",
     "shell.execute_reply": "2022-07-10T07:59:50.348873Z"
    },
    "papermill": {
     "duration": 0.029248,
     "end_time": "2022-07-10T07:59:50.352004",
     "exception": false,
     "start_time": "2022-07-10T07:59:50.322756",
     "status": "completed"
    },
    "tags": []
   },
   "outputs": [
    {
     "data": {
      "text/plain": [
       "(torch.Size([1, 4]),\n",
       " tensor([[40., 45., 50., 55.]]),\n",
       " tensor([[ 0.,  1.,  2.,  3.],\n",
       "         [ 4.,  5.,  6.,  7.],\n",
       "         [ 8.,  9., 10., 11.],\n",
       "         [12., 13., 14., 15.],\n",
       "         [16., 17., 18., 19.]]))"
      ]
     },
     "execution_count": 33,
     "metadata": {},
     "output_type": "execute_result"
    }
   ],
   "source": [
    "A_sum=A.sum(axis=0,keepdims=True)\n",
    "A_sum.shape,A_sum,A\n"
   ]
  },
  {
   "cell_type": "code",
   "execution_count": 34,
   "id": "9ebdd9fc",
   "metadata": {
    "execution": {
     "iopub.execute_input": "2022-07-10T07:59:50.389050Z",
     "iopub.status.busy": "2022-07-10T07:59:50.388122Z",
     "iopub.status.idle": "2022-07-10T07:59:50.396226Z",
     "shell.execute_reply": "2022-07-10T07:59:50.395271Z"
    },
    "papermill": {
     "duration": 0.028607,
     "end_time": "2022-07-10T07:59:50.398262",
     "exception": false,
     "start_time": "2022-07-10T07:59:50.369655",
     "status": "completed"
    },
    "tags": []
   },
   "outputs": [
    {
     "data": {
      "text/plain": [
       "(torch.Size([5, 1]),\n",
       " tensor([[ 6.],\n",
       "         [22.],\n",
       "         [38.],\n",
       "         [54.],\n",
       "         [70.]]))"
      ]
     },
     "execution_count": 34,
     "metadata": {},
     "output_type": "execute_result"
    }
   ],
   "source": [
    "A_sum2=A.sum(axis=1,keepdims=True)\n",
    "A_sum2.shape,A_sum2"
   ]
  },
  {
   "cell_type": "code",
   "execution_count": 35,
   "id": "bc7736d2",
   "metadata": {
    "execution": {
     "iopub.execute_input": "2022-07-10T07:59:50.435399Z",
     "iopub.status.busy": "2022-07-10T07:59:50.434686Z",
     "iopub.status.idle": "2022-07-10T07:59:50.443982Z",
     "shell.execute_reply": "2022-07-10T07:59:50.442951Z"
    },
    "papermill": {
     "duration": 0.030366,
     "end_time": "2022-07-10T07:59:50.446345",
     "exception": false,
     "start_time": "2022-07-10T07:59:50.415979",
     "status": "completed"
    },
    "tags": []
   },
   "outputs": [
    {
     "data": {
      "text/plain": [
       "(tensor([[ 8.,  9., 10., 11.]]), tensor([ 8.,  9., 10., 11.]))"
      ]
     },
     "execution_count": 35,
     "metadata": {},
     "output_type": "execute_result"
    }
   ],
   "source": [
    "A_mean=A.mean(axis=0,keepdims=True)\n",
    "A_test=A.sum(axis=0)/A.shape[0]\n",
    "A_mean,A_test"
   ]
  },
  {
   "cell_type": "code",
   "execution_count": 36,
   "id": "75156b0a",
   "metadata": {
    "execution": {
     "iopub.execute_input": "2022-07-10T07:59:50.484628Z",
     "iopub.status.busy": "2022-07-10T07:59:50.483584Z",
     "iopub.status.idle": "2022-07-10T07:59:50.494824Z",
     "shell.execute_reply": "2022-07-10T07:59:50.494063Z"
    },
    "papermill": {
     "duration": 0.032694,
     "end_time": "2022-07-10T07:59:50.496768",
     "exception": false,
     "start_time": "2022-07-10T07:59:50.464074",
     "status": "completed"
    },
    "tags": []
   },
   "outputs": [
    {
     "data": {
      "text/plain": [
       "(tensor([0., 1., 2., 3.]), tensor([1., 1., 1., 1.]), tensor(6.))"
      ]
     },
     "execution_count": 36,
     "metadata": {},
     "output_type": "execute_result"
    }
   ],
   "source": [
    "#Dot product\n",
    "y=torch.ones(4,dtype=torch.float32)\n",
    "x,y,torch.dot(x,y)"
   ]
  },
  {
   "cell_type": "code",
   "execution_count": 37,
   "id": "d6ef6c53",
   "metadata": {
    "execution": {
     "iopub.execute_input": "2022-07-10T07:59:50.534392Z",
     "iopub.status.busy": "2022-07-10T07:59:50.533754Z",
     "iopub.status.idle": "2022-07-10T07:59:50.542719Z",
     "shell.execute_reply": "2022-07-10T07:59:50.541968Z"
    },
    "papermill": {
     "duration": 0.029919,
     "end_time": "2022-07-10T07:59:50.544596",
     "exception": false,
     "start_time": "2022-07-10T07:59:50.514677",
     "status": "completed"
    },
    "tags": []
   },
   "outputs": [
    {
     "data": {
      "text/plain": [
       "(torch.Size([5, 4]), torch.Size([4]), tensor([ 14.,  38.,  62.,  86., 110.]))"
      ]
     },
     "execution_count": 37,
     "metadata": {},
     "output_type": "execute_result"
    }
   ],
   "source": [
    "#Matrix-vector product\n",
    "A.shape,x.shape,torch.mv(A,x)"
   ]
  },
  {
   "cell_type": "code",
   "execution_count": 38,
   "id": "7f44d2f0",
   "metadata": {
    "execution": {
     "iopub.execute_input": "2022-07-10T07:59:50.582441Z",
     "iopub.status.busy": "2022-07-10T07:59:50.581780Z",
     "iopub.status.idle": "2022-07-10T07:59:50.593879Z",
     "shell.execute_reply": "2022-07-10T07:59:50.593129Z"
    },
    "papermill": {
     "duration": 0.03342,
     "end_time": "2022-07-10T07:59:50.595845",
     "exception": false,
     "start_time": "2022-07-10T07:59:50.562425",
     "status": "completed"
    },
    "tags": []
   },
   "outputs": [
    {
     "data": {
      "text/plain": [
       "tensor([[ 6.,  6.,  6.],\n",
       "        [22., 22., 22.],\n",
       "        [38., 38., 38.],\n",
       "        [54., 54., 54.],\n",
       "        [70., 70., 70.]])"
      ]
     },
     "execution_count": 38,
     "metadata": {},
     "output_type": "execute_result"
    }
   ],
   "source": [
    "#Matrix-matrix product\n",
    "B=torch.ones(4,3)\n",
    "torch.mm(A,B)"
   ]
  },
  {
   "cell_type": "code",
   "execution_count": 39,
   "id": "6d93c1c7",
   "metadata": {
    "execution": {
     "iopub.execute_input": "2022-07-10T07:59:50.633994Z",
     "iopub.status.busy": "2022-07-10T07:59:50.633322Z",
     "iopub.status.idle": "2022-07-10T07:59:50.641075Z",
     "shell.execute_reply": "2022-07-10T07:59:50.640356Z"
    },
    "papermill": {
     "duration": 0.028994,
     "end_time": "2022-07-10T07:59:50.642951",
     "exception": false,
     "start_time": "2022-07-10T07:59:50.613957",
     "status": "completed"
    },
    "tags": []
   },
   "outputs": [
    {
     "data": {
      "text/plain": [
       "tensor(5.)"
      ]
     },
     "execution_count": 39,
     "metadata": {},
     "output_type": "execute_result"
    }
   ],
   "source": [
    "#Norm\n",
    "u=torch.tensor([3.0,-4.0])\n",
    "torch.norm(u)"
   ]
  },
  {
   "cell_type": "code",
   "execution_count": 40,
   "id": "35e41b33",
   "metadata": {
    "execution": {
     "iopub.execute_input": "2022-07-10T07:59:50.681106Z",
     "iopub.status.busy": "2022-07-10T07:59:50.680431Z",
     "iopub.status.idle": "2022-07-10T07:59:50.687097Z",
     "shell.execute_reply": "2022-07-10T07:59:50.686053Z"
    },
    "papermill": {
     "duration": 0.028087,
     "end_time": "2022-07-10T07:59:50.689201",
     "exception": false,
     "start_time": "2022-07-10T07:59:50.661114",
     "status": "completed"
    },
    "tags": []
   },
   "outputs": [
    {
     "data": {
      "text/plain": [
       "tensor(7.)"
      ]
     },
     "execution_count": 40,
     "metadata": {},
     "output_type": "execute_result"
    }
   ],
   "source": [
    "torch.abs(u).sum()"
   ]
  },
  {
   "cell_type": "code",
   "execution_count": 41,
   "id": "874a4639",
   "metadata": {
    "execution": {
     "iopub.execute_input": "2022-07-10T07:59:50.728040Z",
     "iopub.status.busy": "2022-07-10T07:59:50.727333Z",
     "iopub.status.idle": "2022-07-10T07:59:50.734397Z",
     "shell.execute_reply": "2022-07-10T07:59:50.733187Z"
    },
    "papermill": {
     "duration": 0.029001,
     "end_time": "2022-07-10T07:59:50.736634",
     "exception": false,
     "start_time": "2022-07-10T07:59:50.707633",
     "status": "completed"
    },
    "tags": []
   },
   "outputs": [
    {
     "data": {
      "text/plain": [
       "tensor(6.)"
      ]
     },
     "execution_count": 41,
     "metadata": {},
     "output_type": "execute_result"
    }
   ],
   "source": [
    "torch.norm(torch.ones(4,9))"
   ]
  },
  {
   "cell_type": "code",
   "execution_count": 42,
   "id": "668c53ba",
   "metadata": {
    "execution": {
     "iopub.execute_input": "2022-07-10T07:59:50.775014Z",
     "iopub.status.busy": "2022-07-10T07:59:50.774611Z",
     "iopub.status.idle": "2022-07-10T07:59:50.782389Z",
     "shell.execute_reply": "2022-07-10T07:59:50.781401Z"
    },
    "papermill": {
     "duration": 0.029501,
     "end_time": "2022-07-10T07:59:50.784556",
     "exception": false,
     "start_time": "2022-07-10T07:59:50.755055",
     "status": "completed"
    },
    "tags": []
   },
   "outputs": [
    {
     "data": {
      "text/plain": [
       "tensor([[True, True, True, True],\n",
       "        [True, True, True, True],\n",
       "        [True, True, True, True],\n",
       "        [True, True, True, True],\n",
       "        [True, True, True, True]])"
      ]
     },
     "execution_count": 42,
     "metadata": {},
     "output_type": "execute_result"
    }
   ],
   "source": [
    "Z=A.T\n",
    "Z.T==A"
   ]
  },
  {
   "cell_type": "code",
   "execution_count": 43,
   "id": "5f3fad7d",
   "metadata": {
    "execution": {
     "iopub.execute_input": "2022-07-10T07:59:50.823574Z",
     "iopub.status.busy": "2022-07-10T07:59:50.823117Z",
     "iopub.status.idle": "2022-07-10T07:59:50.990230Z",
     "shell.execute_reply": "2022-07-10T07:59:50.989032Z"
    },
    "papermill": {
     "duration": 0.189549,
     "end_time": "2022-07-10T07:59:50.992707",
     "exception": false,
     "start_time": "2022-07-10T07:59:50.803158",
     "status": "completed"
    },
    "tags": []
   },
   "outputs": [
    {
     "name": "stdout",
     "output_type": "stream",
     "text": [
      "h=0.10000,numerical limit=2.30000\n",
      "h=0.01000,numerical limit=2.03000\n",
      "h=0.00100,numerical limit=2.00300\n",
      "h=0.00010,numerical limit=2.00030\n",
      "h=0.00001,numerical limit=2.00003\n"
     ]
    },
    {
     "data": {
      "image/png": "[encoded data removed]",
      "text/plain": [
       "<Figure size 432x288 with 1 Axes>"
      ]
     },
     "metadata": {
      "needs_background": "light"
     },
     "output_type": "display_data"
    }
   ],
   "source": [
    "# Derivatives and Differentiable\n",
    "import numpy as np\n",
    "import matplotlib.pyplot as plt\n",
    "\n",
    "def f(x):\n",
    "    return 3*x**2-4*x\n",
    "\n",
    "def numerical_lim(f,x,h):\n",
    "    return (f(x+h)-f(x))/h\n",
    "\n",
    "h=0.1\n",
    "for i in range(5):\n",
    "    print(f'h={h:.5f},numerical limit={numerical_lim(f,1,h):.5f}')\n",
    "    h*=0.1\n",
    "    \n",
    "x=np.arange(0,3,0.1)\n",
    "plt.plot(x,2*x-3,linestyle='--',label=\"Tangent line(x=1)\")\n",
    "plt.plot(x,f(x),label = 'f(x)')\n",
    "plt.show()\n"
   ]
  },
  {
   "cell_type": "code",
   "execution_count": 44,
   "id": "332203b0",
   "metadata": {
    "execution": {
     "iopub.execute_input": "2022-07-10T07:59:51.032564Z",
     "iopub.status.busy": "2022-07-10T07:59:51.031827Z",
     "iopub.status.idle": "2022-07-10T07:59:51.049121Z",
     "shell.execute_reply": "2022-07-10T07:59:51.048263Z"
    },
    "papermill": {
     "duration": 0.039584,
     "end_time": "2022-07-10T07:59:51.051348",
     "exception": false,
     "start_time": "2022-07-10T07:59:51.011764",
     "status": "completed"
    },
    "tags": []
   },
   "outputs": [
    {
     "data": {
      "text/plain": [
       "tensor([ 0.,  4.,  8., 12.])"
      ]
     },
     "execution_count": 44,
     "metadata": {},
     "output_type": "execute_result"
    }
   ],
   "source": [
    "#Automatic differentiation\n",
    "import torch\n",
    "\n",
    "x=torch.arange(4.0,requires_grad=True)\n",
    "y=2*torch.dot(x,x)\n",
    "y.backward()\n",
    "x.grad"
   ]
  },
  {
   "cell_type": "code",
   "execution_count": 45,
   "id": "5700758d",
   "metadata": {
    "execution": {
     "iopub.execute_input": "2022-07-10T07:59:51.091023Z",
     "iopub.status.busy": "2022-07-10T07:59:51.090276Z",
     "iopub.status.idle": "2022-07-10T07:59:51.099391Z",
     "shell.execute_reply": "2022-07-10T07:59:51.098578Z"
    },
    "papermill": {
     "duration": 0.031601,
     "end_time": "2022-07-10T07:59:51.101607",
     "exception": false,
     "start_time": "2022-07-10T07:59:51.070006",
     "status": "completed"
    },
    "tags": []
   },
   "outputs": [
    {
     "data": {
      "text/plain": [
       "tensor([1., 1., 1., 1.])"
      ]
     },
     "execution_count": 45,
     "metadata": {},
     "output_type": "execute_result"
    }
   ],
   "source": [
    "#By default,pytorch accumulates gradients,and we need to clear the previous values.\n",
    "x.grad.zero_()\n",
    "y=x.sum()\n",
    "y.backward()\n",
    "x.grad"
   ]
  },
  {
   "cell_type": "code",
   "execution_count": 46,
   "id": "13276a40",
   "metadata": {
    "execution": {
     "iopub.execute_input": "2022-07-10T07:59:51.142403Z",
     "iopub.status.busy": "2022-07-10T07:59:51.141227Z",
     "iopub.status.idle": "2022-07-10T07:59:51.150078Z",
     "shell.execute_reply": "2022-07-10T07:59:51.148979Z"
    },
    "papermill": {
     "duration": 0.031744,
     "end_time": "2022-07-10T07:59:51.152239",
     "exception": false,
     "start_time": "2022-07-10T07:59:51.120495",
     "status": "completed"
    },
    "tags": []
   },
   "outputs": [
    {
     "data": {
      "text/plain": [
       "tensor([0., 2., 4., 6.])"
      ]
     },
     "execution_count": 46,
     "metadata": {},
     "output_type": "execute_result"
    }
   ],
   "source": [
    "x.grad.zero_()\n",
    "y=x*x\n",
    "y.sum().backward()\n",
    "x.grad"
   ]
  },
  {
   "cell_type": "code",
   "execution_count": 47,
   "id": "4eae0bfd",
   "metadata": {
    "execution": {
     "iopub.execute_input": "2022-07-10T07:59:51.192273Z",
     "iopub.status.busy": "2022-07-10T07:59:51.191546Z",
     "iopub.status.idle": "2022-07-10T07:59:51.200184Z",
     "shell.execute_reply": "2022-07-10T07:59:51.199262Z"
    },
    "papermill": {
     "duration": 0.030875,
     "end_time": "2022-07-10T07:59:51.202335",
     "exception": false,
     "start_time": "2022-07-10T07:59:51.171460",
     "status": "completed"
    },
    "tags": []
   },
   "outputs": [
    {
     "data": {
      "text/plain": [
       "tensor([True, True, True, True])"
      ]
     },
     "execution_count": 47,
     "metadata": {},
     "output_type": "execute_result"
    }
   ],
   "source": [
    "#Separation calculation\n",
    "x.grad.zero_()\n",
    "y=x*x\n",
    "u=y.detach()\n",
    "z=u*x\n",
    "z.sum().backward()\n",
    "x.grad==u"
   ]
  },
  {
   "cell_type": "code",
   "execution_count": 48,
   "id": "8e6d82c6",
   "metadata": {
    "execution": {
     "iopub.execute_input": "2022-07-10T07:59:51.242808Z",
     "iopub.status.busy": "2022-07-10T07:59:51.242422Z",
     "iopub.status.idle": "2022-07-10T07:59:51.249649Z",
     "shell.execute_reply": "2022-07-10T07:59:51.248649Z"
    },
    "papermill": {
     "duration": 0.029947,
     "end_time": "2022-07-10T07:59:51.251768",
     "exception": false,
     "start_time": "2022-07-10T07:59:51.221821",
     "status": "completed"
    },
    "tags": []
   },
   "outputs": [
    {
     "data": {
      "text/plain": [
       "tensor([True, True, True, True])"
      ]
     },
     "execution_count": 48,
     "metadata": {},
     "output_type": "execute_result"
    }
   ],
   "source": [
    "x.grad.zero_()\n",
    "y.sum().backward()\n",
    "x.grad==2*x"
   ]
  },
  {
   "cell_type": "code",
   "execution_count": 49,
   "id": "d20f7b4e",
   "metadata": {
    "execution": {
     "iopub.execute_input": "2022-07-10T07:59:51.292586Z",
     "iopub.status.busy": "2022-07-10T07:59:51.292165Z",
     "iopub.status.idle": "2022-07-10T07:59:51.302483Z",
     "shell.execute_reply": "2022-07-10T07:59:51.301465Z"
    },
    "papermill": {
     "duration": 0.033443,
     "end_time": "2022-07-10T07:59:51.304731",
     "exception": false,
     "start_time": "2022-07-10T07:59:51.271288",
     "status": "completed"
    },
    "tags": []
   },
   "outputs": [
    {
     "data": {
      "text/plain": [
       "tensor(True)"
      ]
     },
     "execution_count": 49,
     "metadata": {},
     "output_type": "execute_result"
    }
   ],
   "source": [
    "#python gradient calculation for control flow\n",
    "def f(a):\n",
    "    b=a*2\n",
    "    while b.norm()<1000:\n",
    "        b=b*2\n",
    "    if b.sum()>0:\n",
    "        c=b\n",
    "    else:\n",
    "        c=100*b\n",
    "    return c\n",
    "\n",
    "a=torch.randn(size=(),requires_grad=True)\n",
    "d=f(a)\n",
    "d.backward()\n",
    "a.grad==d/a"
   ]
  },
  {
   "cell_type": "code",
   "execution_count": 50,
   "id": "2201a7c7",
   "metadata": {
    "execution": {
     "iopub.execute_input": "2022-07-10T07:59:51.345951Z",
     "iopub.status.busy": "2022-07-10T07:59:51.345598Z",
     "iopub.status.idle": "2022-07-10T07:59:51.363476Z",
     "shell.execute_reply": "2022-07-10T07:59:51.362354Z"
    },
    "papermill": {
     "duration": 0.041165,
     "end_time": "2022-07-10T07:59:51.365909",
     "exception": false,
     "start_time": "2022-07-10T07:59:51.324744",
     "status": "completed"
    },
    "tags": []
   },
   "outputs": [
    {
     "data": {
      "text/plain": [
       "tensor([0., 0., 0., 0., 0., 1.])"
      ]
     },
     "execution_count": 50,
     "metadata": {},
     "output_type": "execute_result"
    }
   ],
   "source": [
    "#Basic probability theory\n",
    "import torch\n",
    "from torch.distributions import multinomial\n",
    "\n",
    "fair_probs=torch.ones([6])/6\n",
    "multinomial.Multinomial(1,fair_probs).sample()"
   ]
  },
  {
   "cell_type": "code",
   "execution_count": 51,
   "id": "9214171d",
   "metadata": {
    "execution": {
     "iopub.execute_input": "2022-07-10T07:59:51.407770Z",
     "iopub.status.busy": "2022-07-10T07:59:51.407022Z",
     "iopub.status.idle": "2022-07-10T07:59:51.414976Z",
     "shell.execute_reply": "2022-07-10T07:59:51.414042Z"
    },
    "papermill": {
     "duration": 0.031476,
     "end_time": "2022-07-10T07:59:51.417127",
     "exception": false,
     "start_time": "2022-07-10T07:59:51.385651",
     "status": "completed"
    },
    "tags": []
   },
   "outputs": [
    {
     "data": {
      "text/plain": [
       "tensor([3., 2., 0., 0., 3., 2.])"
      ]
     },
     "execution_count": 51,
     "metadata": {},
     "output_type": "execute_result"
    }
   ],
   "source": [
    "multinomial.Multinomial(10,fair_probs).sample()"
   ]
  },
  {
   "cell_type": "code",
   "execution_count": 52,
   "id": "aad1c5cc",
   "metadata": {
    "execution": {
     "iopub.execute_input": "2022-07-10T07:59:51.457904Z",
     "iopub.status.busy": "2022-07-10T07:59:51.457540Z",
     "iopub.status.idle": "2022-07-10T07:59:51.703708Z",
     "shell.execute_reply": "2022-07-10T07:59:51.702614Z"
    },
    "papermill": {
     "duration": 0.269283,
     "end_time": "2022-07-10T07:59:51.705925",
     "exception": false,
     "start_time": "2022-07-10T07:59:51.436642",
     "status": "completed"
    },
    "tags": []
   },
   "outputs": [
    {
     "data": {
      "text/plain": [
       "<matplotlib.legend.Legend at 0x7f2f28a5f190>"
      ]
     },
     "execution_count": 52,
     "metadata": {},
     "output_type": "execute_result"
    },
    {
     "data": {
      "image/png": "[encoded data removed]",
      "text/plain": [
       "<Figure size 432x288 with 1 Axes>"
      ]
     },
     "metadata": {
      "needs_background": "light"
     },
     "output_type": "display_data"
    }
   ],
   "source": [
    "import matplotlib.pyplot as plt\n",
    "counts=multinomial.Multinomial(10,fair_probs).sample((500,))\n",
    "cum_counts=counts.cumsum(dim=0)\n",
    "estimates=cum_counts/cum_counts.sum(dim=1,keepdim=True)\n",
    "for i in range(6):\n",
    "    plt.plot(estimates[:,i].numpy(),label=(\"P(die=\"+str(i+1)+\")\"))\n",
    "plt.axhline(y=0.167,color='black',linestyle='dashed')\n",
    "plt.legend()"
   ]
  }
 ],
 "metadata": {
  "kernelspec": {
   "display_name": "Python 3",
   "language": "python",
   "name": "python3"
  },
  "language_info": {
   "codemirror_mode": {
    "name": "ipython",
    "version": 3
   },
   "file_extension": ".py",
   "mimetype": "text/x-python",
   "name": "python",
   "nbconvert_exporter": "python",
   "pygments_lexer": "ipython3",
   "version": "3.7.12"
  },
  "papermill": {
   "default_parameters": {},
   "duration": 14.624661,
   "end_time": "2022-07-10T07:59:52.448025",
   "environment_variables": {},
   "exception": null,
   "input_path": "__notebook__.ipynb",
   "output_path": "__notebook__.ipynb",
   "parameters": {},
   "start_time": "2022-07-10T07:59:37.823364",
   "version": "2.3.4"
  }
 },
 "nbformat": 4,
 "nbformat_minor": 5
}
